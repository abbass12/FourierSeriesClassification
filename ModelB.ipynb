{
 "cells": [
  {
   "cell_type": "markdown",
   "id": "FrJ2h72z15eK",
   "metadata": {
    "id": "FrJ2h72z15eK",
    "pycharm": {
     "name": "#%% md\n"
    }
   },
   "source": [
    "# Signal Classifier"
   ]
  },
  {
   "cell_type": "markdown",
   "id": "Np8XS8WX2Dqd",
   "metadata": {
    "id": "Np8XS8WX2Dqd",
    "pycharm": {
     "name": "#%% md\n"
    }
   },
   "source": [
    "## Library Imports"
   ]
  },
  {
   "cell_type": "code",
   "execution_count": 1,
   "id": "7dbb2831-db87-4870-a196-8d028fa60fc2",
   "metadata": {
    "executionInfo": {
     "elapsed": 8084,
     "status": "ok",
     "timestamp": 1652457976225,
     "user": {
      "displayName": "Abbass",
      "userId": "15291878327143677964"
     },
     "user_tz": 240
    },
    "id": "7dbb2831-db87-4870-a196-8d028fa60fc2",
    "pycharm": {
     "name": "#%%\n"
    }
   },
   "outputs": [],
   "source": [
    "import numpy as np\n",
    "import pandas as pd\n",
    "import plotly.graph_objects as go\n",
    "import tensorflow as tf\n",
    "#np.seterr(divide='ignore', invalid='ignore')\n",
    "import warnings\n",
    "warnings.filterwarnings(\"ignore\", category=FutureWarning)\n",
    "def plot(fig,x,y,name):\n",
    "    fig.add_trace(go.Scatter(x=x,y=y,mode='lines',name=name))\n"
   ]
  },
  {
   "cell_type": "markdown",
   "id": "Cjpiet1L2JBF",
   "metadata": {
    "id": "Cjpiet1L2JBF",
    "pycharm": {
     "name": "#%% md\n"
    }
   },
   "source": [
    "## Defintion of Different Signal Functions"
   ]
  },
  {
   "cell_type": "code",
   "execution_count": 2,
   "id": "2fd06006",
   "metadata": {
    "pycharm": {
     "name": "#%%\n"
    }
   },
   "outputs": [],
   "source": [
    "SignalsDict={'Box':1,'Saw':2,'Exp':3,'Sin':4,'Gaus':5}\n",
    "def Generate(signal,x,Amount,normalized=True,fourier=False,N=40,M=40,Noise=False,noiseParameter=0.1):\n",
    "    signalOutput=[]\n",
    "    length=Amount+2\n",
    "    print(SignalsDict[signal])\n",
    "    if(SignalsDict[signal]==1):\n",
    "        #a=np.linspace(np.pi/4,np.pi/2,len(x))\n",
    "        a=np.linspace(.10,2.90,length)\n",
    "        b=np.append(np.linspace(-100,-0.01,int(length/2)),np.linspace(0.01,100,int(length/2)))\n",
    "        a=np.random.permutation(a)\n",
    "        b=np.random.permutation(b)\n",
    "        if fourier:\n",
    "            for i in range(Amount):\n",
    "                cn=box(x,a[i],b[i],normalized=normalized,fourier=True,N=N)\n",
    "                normalization=1#np.max(abs(F))\n",
    "                #BoxSignal.append(F/normalization)\n",
    "                #BoxSignalFourier.append(fx)\n",
    "                signalOutput.append(FourierSeries(cn,x,N,M))\n",
    "            return [signalOutput,a[0:Amount],b[0:Amount]]\n",
    "        elif Noise:\n",
    "            for i in range(Amount):\n",
    "                F=box(x,a[i],b[i],noise=True,normalized=normalized,noiseParameter=noiseParameter)\n",
    "                signalOutput.append(F)\n",
    "            return [signalOutput,a[0:Amount],b[0:Amount]]\n",
    "        else:\n",
    "            for i in range(Amount):\n",
    "                F=box(x,a[i],b[i],normalized=normalized)\n",
    "                #normalization=1#np.max(abs(F))\n",
    "                #BoxSignal.append(F/normalization)\n",
    "                #BoxSignalFourier.append(fx)\n",
    "                signalOutput.append(F)\n",
    "            return [signalOutput,a[0:Amount],b[0:Amount]]\n",
    "    elif(SignalsDict[signal]==2):\n",
    "        a=np.linspace(np.pi/4,np.pi/2,length)\n",
    "        b=np.append(np.linspace(-100,-0.01,int(length/2)),np.linspace(0.01,100,int(length/2)))\n",
    "        a=np.random.permutation(a)\n",
    "        b=np.random.permutation(b)\n",
    "        if fourier:\n",
    "            for i in range(Amount):\n",
    "                cn=saw(x,a[i],b[i],normalized=normalized\n",
    "                ,fourier=True,N=N)\n",
    "                signalOutput.append(FourierSeries(cn,x,N,M))\n",
    "            return [signalOutput,a[0:Amount],b[0:Amount]]\n",
    "        elif Noise:\n",
    "            for i in range(Amount):\n",
    "                F=saw(x,a[i],b[i],noise=True,normalized=normalized,noiseParameter=noiseParameter)\n",
    "                signalOutput.append(F)\n",
    "            return [signalOutput,a[0:Amount],b[0:Amount]]\n",
    "        else:\n",
    "            for i in range(Amount):\n",
    "                F=saw(x,a[i],b[i],normalized=normalized)\n",
    "                signalOutput.append(F)\n",
    "            return [signalOutput,a[0:Amount],b[0:Amount]]\n",
    "    elif(SignalsDict[signal]==3):\n",
    "        a=np.linspace(np.pi/4,np.pi/2,length)\n",
    "        b=np.append(np.linspace(-1,-0.1,int(length/2)),np.linspace(0.1,1,int(length/2)))\n",
    "        c=np.append(np.linspace(-3,-1.01,int(length/2)),np.linspace(-1.01,1,int(length/2)))\n",
    "        a=np.random.permutation(a)\n",
    "        b=np.random.permutation(b)\n",
    "        c=np.random.permutation(c)\n",
    "        if fourier:\n",
    "            for i in range(Amount):\n",
    "                cn=exp(x,a[i],b[i],c[i],normalized=normalized\n",
    "                ,fourier=True,N=N)\n",
    "                signalOutput.append(FourierSeries(cn,x,N,M))\n",
    "            return [signalOutput,a[0:Amount],b[0:Amount],c[0:Amount]]\n",
    "        elif Noise:\n",
    "            for i in range(Amount):\n",
    "                F=exp(x,a[i],b[i],c[i],noise=True,normalized=normalized,noiseParameter=noiseParameter)\n",
    "                signalOutput.append(F)\n",
    "            return [signalOutput,a[0:Amount],b[0:Amount],c[0:Amount]]\n",
    "        else:\n",
    "            for i in range(Amount):\n",
    "                F=exp(x,a[i],b[i],c[i],normalized=normalized)\n",
    "                signalOutput.append(F)\n",
    "            return [signalOutput,a[0:Amount],b[0:Amount],c[0:Amount]]\n",
    "    elif(SignalsDict[signal]==4):\n",
    "        a=np.linspace(np.pi/4,np.pi/2,length)\n",
    "        b=np.append(np.linspace(-2*np.pi,-0.3,int(length/2)),np.linspace(0.3,2*np.pi,int(length/2)))\n",
    "        c=np.append(np.linspace(-100,-0.1,int(length/2)),np.linspace(0.1,100,int(length/2)))\n",
    "        a=np.random.permutation(a)\n",
    "        b=np.random.permutation(b)\n",
    "        c=np.random.permutation(c)\n",
    "        if fourier:\n",
    "            for i in range(Amount):\n",
    "                cn=sinu(x,a[i],b[i],c[i],normalized=normalized\n",
    "                ,fourier=True,N=N)\n",
    "                signalOutput.append(FourierSeries(cn,x,N,M))\n",
    "            return [signalOutput,a[0:Amount],b[0:Amount],c[0:Amount]]\n",
    "        elif Noise:\n",
    "            for i in range(Amount):\n",
    "                F=sinu(x,a[i],b[i],c[i],noise=True,normalized=normalized,noiseParameter=noiseParameter)\n",
    "                signalOutput.append(F)\n",
    "            return [signalOutput,a[0:Amount],b[0:Amount],c[0:Amount]]\n",
    "        else:\n",
    "            for i in range(Amount):\n",
    "                F=sinu(x,a[i],b[i],c[i],normalized=normalized)\n",
    "                signalOutput.append(F)\n",
    "            return [signalOutput,a[0:Amount],b[0:Amount],c[0:Amount]]\n",
    "    elif(SignalsDict[signal]==5):\n",
    "        a=np.linspace(np.pi/4,np.pi/2,length)\n",
    "        #b=np.append(np.linspace(-10,-1,int(length/2)),np.linspace(1,10,int(length/2)))\n",
    "        b=np.linspace(1,10,length)\n",
    "        a=np.random.permutation(a)\n",
    "        b=np.random.permutation(b)\n",
    "\n",
    "        if fourier:\n",
    "            for i in range(Amount):\n",
    "                #x=np.linspace(-np.pi,np.pi,N)\n",
    "                cn=gaus(x,a[i],int(b[i]),fourier=True,N=N,M=M)\n",
    "                fx=FourierSeries(cn,x,M)\n",
    "                #cn=gaus(x,a[i],int(b[i]),normalized=normalized,fourier=True,N=N,M=M)\n",
    "                signalOutput.append(fx)\n",
    "            return [signalOutput,a[0:Amount],b[0:Amount]]\n",
    "        elif Noise:\n",
    "            for i in range(Amount):\n",
    "                F=gaus(x,a[i],int(b[i]),noise=True,normalized=normalized,noiseParameter=noiseParameter)\n",
    "                signalOutput.append(F)\n",
    "            return [signalOutput,a[0:Amount],b[0:Amount]]\n",
    "        else:\n",
    "            for i in range(Amount):\n",
    "                F=gaus(x,a[i],int(b[i]),normalized=normalized)\n",
    "                signalOutput.append(F)\n",
    "            return [signalOutput,a[0:Amount],b[0:Amount]]\n",
    "def FourierSeries(cn,X,N,M=0):\n",
    "    fx=[]\n",
    "    #X=np.linspace(-np.pi,np.pi,M)\n",
    "    '''\n",
    "    Cn=np.zeros(len(cn))\n",
    "    Cn[0]=cn[int(N/2)]\n",
    "    Cn[1:int(N/2)-1]=cn[1:int(N/2)-1]\n",
    "    Cn[int(N/2)+1:N]=cn[int(N/2)+1:N]\n",
    "    fx=np.fft.ifft(Cn)\n",
    "    '''\n",
    "\n",
    "    for x in X:\n",
    "        result=0\n",
    "        for i in range(int((-N/2)),int((N/2))):\n",
    "            result=result+cn[int(i+(N/2))]*(np.e**(1j*i*x)) #Calculate Fourier Series approximation using formula\n",
    "        fx.append(result.real)\n",
    "    return fx"
   ]
  },
  {
   "cell_type": "code",
   "execution_count": 3,
   "id": "55c68c01",
   "metadata": {
    "pycharm": {
     "name": "#%%\n"
    }
   },
   "outputs": [],
   "source": [
    "def dft(N,M=40):\n",
    "    #w=np.e**((2*np.pi*-1j)/N)\n",
    "    power=np.zeros((M,N),dtype=complex)\n",
    "    xj = np.linspace(-np.pi, np.pi, N)\n",
    "    for i in range(M):\n",
    "        for j in range(N):\n",
    "            #power[i][j]=((-N/2)+i)*j\n",
    "            power[i][j] = -1j*(i-M/2)*xj[j]\n",
    "    #DFT=(w**power)/N\n",
    "    DFT = np.e**power\n",
    "    return DFT\n",
    "def box(x,a=2,b=5,normalized=True,noise=False,noiseParameter=0.1,fourier=False,N=40):\n",
    "    if fourier:\n",
    "        k=np.linspace(int((-N/2)),int((N/2)),N+1)\n",
    "        fkhat=np.zeros(len(k))\n",
    "        fkhat[k==0]=(2*a*b)\n",
    "        fkhat[k!=0]=((2*b*np.sin(a*k[k!=0]))/k[k!=0])\n",
    "        y=fkhat/(2*np.pi)\n",
    "        if normalized:\n",
    "            return y/np.max(abs(box(x,a,b,normalized=False)))\n",
    "        return y\n",
    "    y=np.zeros(len(x))\n",
    "    y[np.abs(x)<a]=b\n",
    "    if noise:\n",
    "        y=y+np.random.normal(0,noiseParameter,len(x))\n",
    "        if normalized:\n",
    "            return y/np.max(abs(box(x,a,b,normalized=False)))\n",
    "        return y\n",
    "    if normalized:\n",
    "        return y/np.max(abs(y))\n",
    "    return y\n",
    "def saw(x,a=2,b=5,normalized=True,noise=False,noiseParameter=0.1,fourier=False,N=40):\n",
    "    if fourier:\n",
    "        k=np.linspace(int((-N/2)),int((N/2)),N+1)\n",
    "        fkhat=np.zeros(len(k)).astype(complex)\n",
    "        fkhat[k==0]=0\n",
    "        fkhat[k!=0]=(2*1j*b*(np.sin(a*k[k!=0])-a*k[k!=0]*np.cos(a*k[k!=0])))/(k[k!=0]**2)\n",
    "        y=fkhat/(2*np.pi)\n",
    "        if normalized:\n",
    "            return y/np.max(abs(saw(x,a,b,normalized=False)))\n",
    "        return y\n",
    "    y=np.zeros(len(x))\n",
    "    y[np.abs(x)<a]=-b*x[np.abs(x)<a]\n",
    "    if noise:\n",
    "        y=y+np.random.normal(0,noiseParameter,len(x))\n",
    "        if normalized:\n",
    "            return y/np.max(abs(saw(x,a,b,normalized=False)))\n",
    "        return y\n",
    "    if normalized:\n",
    "        return y/np.max(abs(y))\n",
    "    return y\n",
    "def exp(x,a=2,b=2,c=-1,normalized=True,noise=False,noiseParameter=0.1,fourier=False,N=40):\n",
    "    if fourier:\n",
    "        k=np.linspace(int((-N/2)),int((N/2)),N+1).astype(complex)\n",
    "        fkhat=np.zeros(len(k)).astype(complex)\n",
    "        fkhat[k==0]=(2*((a*b*c)+np.sinh(a*b)))/b\n",
    "        fkhat[k!=0]=((2*c*np.sin(a*k[k!=0]))/k[k!=0])+((2*np.sinh(a*(b+(1j*k[k!=0]))))/(b+(1j*k[k!=0])))\n",
    "        y=fkhat/(2*np.pi)\n",
    "        if normalized:\n",
    "            return y/np.max(abs(exp(x,a,b,c,normalized=False)))\n",
    "        return y\n",
    "    y=np.zeros(len(x))\n",
    "    y[np.abs(x)<a]=c+np.e**(-b*x[[np.abs(x)<a]])\n",
    "    if noise:\n",
    "        y=y+np.random.normal(0,noiseParameter,len(x))\n",
    "        if normalized:\n",
    "           return y/np.max(abs(exp(x,a,b,c,normalized=False)))\n",
    "        return y\n",
    "    if normalized:\n",
    "        return y/np.max(abs(y))\n",
    "    return y\n",
    "def sinu(x,a=2,b=2,c=-1,normalized=True,noise=False,noiseParameter=0.1,fourier=False,N=40):\n",
    "    if fourier:\n",
    "        k=np.linspace(int((-N/2)),int((N/2)),N+1).astype(complex)\n",
    "        fkhat=np.zeros(len(k)).astype(complex)\n",
    "        fkhat[k==b]=((1j*c*np.sin(2*a*b))/(2*b))-(1j*a*c)\n",
    "        fkhat[k==-b]=(1/2)*1j*c*((2*a)-((np.sin(2*a*b))/b))\n",
    "        fkhat[k!=b]=(2*1j*c*((b*np.cos(a*b)*np.sin(a*k[k!=b]))-(k[k!=b]*np.sin(a*b)*np.cos(a*k[k!=b]))))/((b**2)-(k[k!=b]**2))\n",
    "        y=fkhat/(2*np.pi)\n",
    "        if normalized:\n",
    "            return y/np.max(abs(sinu(x,a,b,c,normalized=False)))\n",
    "        return y\n",
    "    y=np.zeros(len(x))\n",
    "    y[np.abs(x)<a]=c*np.sin(b*x[np.abs(x[0:1500])<a])\n",
    "    if noise:\n",
    "        y=y+np.random.normal(0,noiseParameter,len(x))\n",
    "        if normalized:\n",
    "            return y/np.max(abs(sinu(x,a,b,c,normalized=False)))\n",
    "        return y\n",
    "    if normalized:\n",
    "        return y/np.max(abs(y))\n",
    "    return y\n",
    "def gaus(x,a=2,b=2,normalized=True,noise=False,noiseParameter=0.1,fourier=False,N=40,M=40):\n",
    "    if fourier:\n",
    "        fkhat=((np.dot(dft(N,M),gaus(x,a,b)))/N)\n",
    "        if normalized:\n",
    "            return fkhat/np.max(abs(gaus(x,a,b,normalized=False)))\n",
    "        return fkhat\n",
    "    y=np.zeros(len(x))\n",
    "    y[np.abs(x)<a]=np.e**(-a*(x[np.abs(x)<a]**(2*b)))\n",
    "    y=np.nan_to_num(y)\n",
    "    if noise:\n",
    "        y=y+np.random.normal(0,noiseParameter,len(x))\n",
    "        if normalized:\n",
    "            return y/np.max(abs(gaus(x,a,b,normalized=False)))\n",
    "        return y\n",
    "    if normalized:\n",
    "        return y/np.max(abs(y))\n",
    "    return y\n",
    "def FourierSeries(cn,X,N,M=0):\n",
    "    fx=[]\n",
    "    #X=np.linspace(-np.pi,np.pi,M)\n",
    "    '''\n",
    "    Cn=np.zeros(len(cn))\n",
    "    Cn[0]=cn[int(N/2)]\n",
    "    Cn[1:int(N/2)-1]=cn[1:int(N/2)-1]\n",
    "    Cn[int(N/2)+1:N]=cn[int(N/2)+1:N]\n",
    "    fx=np.fft.ifft(Cn)\n",
    "    '''\n",
    "\n",
    "    for x in X:\n",
    "        result=0\n",
    "        for i in range(int((-N/2)),int((N/2))):\n",
    "            result=result+cn[int(i+(N/2))]*(np.e**(1j*i*x)) #Calculate Fourier Series approximation using formula\n",
    "        fx.append(result.real)\n",
    "    return fx"
   ]
  },
  {
   "cell_type": "markdown",
   "id": "iCZSEmcmsbN7",
   "metadata": {
    "id": "iCZSEmcmsbN7",
    "pycharm": {
     "name": "#%% md\n"
    }
   },
   "source": [
    "## Testing\n",
    "###"
   ]
  },
  {
   "cell_type": "code",
   "execution_count": 9,
   "id": "7cc5838d",
   "metadata": {
    "pycharm": {
     "name": "#%%\n"
    }
   },
   "outputs": [
    {
     "name": "stdout",
     "output_type": "stream",
     "text": [
      "1\n",
      "2\n",
      "3\n",
      "4\n",
      "5\n"
     ]
    }
   ],
   "source": [
    "points=1500\n",
    "x=np.linspace(-np.pi,np.pi,points)\n",
    "BoxSignal=Generate('Box',x,fourier=True,N=20,Amount=1000)\n",
    "SawSignal=Generate('Saw',x,fourier=True,N=20,Amount=1000)\n",
    "ExpSignal=Generate('Exp',x,fourier=True,N=20,Amount=1000)\n",
    "SinSignal=Generate('Sin',x,fourier=True,N=20,Amount=1000)\n",
    "GausSignal=Generate('Gaus',x,fourier=True,N=points,M=20,Amount=1000)\n",
    "\n",
    "#parameters\n",
    "\n",
    "\n"
   ]
  },
  {
   "cell_type": "code",
   "execution_count": 6,
   "id": "58fa175a",
   "metadata": {
    "pycharm": {
     "name": "#%%\n"
    }
   },
   "outputs": [],
   "source": []
  },
  {
   "cell_type": "code",
   "execution_count": 11,
   "id": "3b129a6d",
   "metadata": {
    "pycharm": {
     "name": "#%%\n"
    }
   },
   "outputs": [],
   "source": [
    "Signals=[BoxSignal[0],SawSignal[0],ExpSignal[0],SinSignal[0],GausSignal[0]]\n",
    "SignalLabels=[\n",
    "    1*np.ones(1000),\n",
    "    2*np.ones(1000),\n",
    "    3*np.ones(1000),\n",
    "    4*np.ones(1000),\n",
    "    5*np.ones(1000)]\n",
    "SignalsTrain=np.array(np.concatenate(Signals).flat)\n",
    "SignalsTrain=SignalsTrain.reshape((5000,1500))\n",
    "SignalLabelsTrain=np.array(np.concatenate(SignalLabels).flat)"
   ]
  },
  {
   "cell_type": "code",
   "execution_count": 12,
   "id": "8204a381",
   "metadata": {
    "pycharm": {
     "name": "#%%\n"
    }
   },
   "outputs": [
    {
     "data": {
      "text/plain": "(5000, 1500)"
     },
     "execution_count": 12,
     "metadata": {},
     "output_type": "execute_result"
    }
   ],
   "source": [
    "np.shape(SignalsTrain)"
   ]
  },
  {
   "cell_type": "code",
   "execution_count": 13,
   "id": "3cad787c",
   "metadata": {
    "pycharm": {
     "name": "#%%\n"
    }
   },
   "outputs": [
    {
     "name": "stdout",
     "output_type": "stream",
     "text": [
      "Epoch 1/100\n",
      "157/157 [==============================] - 1s 2ms/step - loss: 0.4692 - accuracy: 0.8158\n",
      "Epoch 2/100\n",
      "157/157 [==============================] - 0s 2ms/step - loss: 0.2773 - accuracy: 0.9020\n",
      "Epoch 3/100\n",
      "157/157 [==============================] - 0s 2ms/step - loss: 0.2357 - accuracy: 0.9136\n",
      "Epoch 4/100\n",
      "157/157 [==============================] - 0s 2ms/step - loss: 0.2019 - accuracy: 0.9266\n",
      "Epoch 5/100\n",
      "157/157 [==============================] - 0s 2ms/step - loss: 0.1838 - accuracy: 0.9384\n",
      "Epoch 6/100\n",
      "157/157 [==============================] - 0s 2ms/step - loss: 0.1731 - accuracy: 0.9436\n",
      "Epoch 7/100\n",
      "157/157 [==============================] - 0s 2ms/step - loss: 0.1747 - accuracy: 0.9410\n",
      "Epoch 8/100\n",
      "157/157 [==============================] - 0s 2ms/step - loss: 0.1615 - accuracy: 0.9458\n",
      "Epoch 9/100\n",
      "157/157 [==============================] - 0s 2ms/step - loss: 0.1602 - accuracy: 0.9424\n",
      "Epoch 10/100\n",
      "157/157 [==============================] - 0s 2ms/step - loss: 0.1622 - accuracy: 0.9478\n",
      "Epoch 11/100\n",
      "157/157 [==============================] - 0s 2ms/step - loss: 0.1520 - accuracy: 0.9512\n",
      "Epoch 12/100\n",
      "157/157 [==============================] - 0s 2ms/step - loss: 0.1342 - accuracy: 0.9560\n",
      "Epoch 13/100\n",
      "157/157 [==============================] - 0s 2ms/step - loss: 0.1356 - accuracy: 0.9556\n",
      "Epoch 14/100\n",
      "157/157 [==============================] - 0s 2ms/step - loss: 0.1389 - accuracy: 0.9530\n",
      "Epoch 15/100\n",
      "157/157 [==============================] - 0s 2ms/step - loss: 0.1382 - accuracy: 0.9530\n",
      "Epoch 16/100\n",
      "157/157 [==============================] - 0s 2ms/step - loss: 0.1311 - accuracy: 0.9604\n",
      "Epoch 17/100\n",
      "157/157 [==============================] - 0s 2ms/step - loss: 0.1258 - accuracy: 0.9548\n",
      "Epoch 18/100\n",
      "157/157 [==============================] - 0s 3ms/step - loss: 0.1250 - accuracy: 0.9590\n",
      "Epoch 19/100\n",
      "157/157 [==============================] - 0s 2ms/step - loss: 0.1368 - accuracy: 0.9522\n",
      "Epoch 20/100\n",
      "157/157 [==============================] - 0s 2ms/step - loss: 0.1622 - accuracy: 0.9514\n",
      "Epoch 21/100\n",
      "157/157 [==============================] - 0s 2ms/step - loss: 0.1300 - accuracy: 0.9580\n",
      "Epoch 22/100\n",
      "157/157 [==============================] - 0s 2ms/step - loss: 0.1150 - accuracy: 0.9598\n",
      "Epoch 23/100\n",
      "157/157 [==============================] - 0s 2ms/step - loss: 0.1229 - accuracy: 0.9610\n",
      "Epoch 24/100\n",
      "157/157 [==============================] - 0s 2ms/step - loss: 0.1333 - accuracy: 0.9544\n",
      "Epoch 25/100\n",
      "157/157 [==============================] - 0s 2ms/step - loss: 0.1203 - accuracy: 0.9614\n",
      "Epoch 26/100\n",
      "157/157 [==============================] - 0s 2ms/step - loss: 0.1128 - accuracy: 0.9620\n",
      "Epoch 27/100\n",
      "157/157 [==============================] - 0s 2ms/step - loss: 0.1110 - accuracy: 0.9642\n",
      "Epoch 28/100\n",
      "157/157 [==============================] - 0s 2ms/step - loss: 0.1252 - accuracy: 0.9594\n",
      "Epoch 29/100\n",
      "157/157 [==============================] - 0s 2ms/step - loss: 0.1099 - accuracy: 0.9646\n",
      "Epoch 30/100\n",
      "157/157 [==============================] - 0s 2ms/step - loss: 0.1062 - accuracy: 0.9634\n",
      "Epoch 31/100\n",
      "157/157 [==============================] - 0s 2ms/step - loss: 0.1023 - accuracy: 0.9644\n",
      "Epoch 32/100\n",
      "157/157 [==============================] - 0s 2ms/step - loss: 0.0993 - accuracy: 0.9678\n",
      "Epoch 33/100\n",
      "157/157 [==============================] - 0s 2ms/step - loss: 0.0993 - accuracy: 0.9656\n",
      "Epoch 34/100\n",
      "157/157 [==============================] - 0s 2ms/step - loss: 0.1186 - accuracy: 0.9580\n",
      "Epoch 35/100\n",
      "157/157 [==============================] - 0s 2ms/step - loss: 0.1586 - accuracy: 0.9546\n",
      "Epoch 36/100\n",
      "157/157 [==============================] - 0s 2ms/step - loss: 0.1156 - accuracy: 0.9628\n",
      "Epoch 37/100\n",
      "157/157 [==============================] - 0s 2ms/step - loss: 0.1091 - accuracy: 0.9642\n",
      "Epoch 38/100\n",
      "157/157 [==============================] - 0s 2ms/step - loss: 0.1080 - accuracy: 0.9668\n",
      "Epoch 39/100\n",
      "157/157 [==============================] - 0s 2ms/step - loss: 0.0998 - accuracy: 0.9684\n",
      "Epoch 40/100\n",
      "157/157 [==============================] - 0s 2ms/step - loss: 0.0933 - accuracy: 0.9654\n",
      "Epoch 41/100\n",
      "157/157 [==============================] - 0s 2ms/step - loss: 0.1184 - accuracy: 0.9606\n",
      "Epoch 42/100\n",
      "157/157 [==============================] - 0s 2ms/step - loss: 0.1066 - accuracy: 0.9612\n",
      "Epoch 43/100\n",
      "157/157 [==============================] - 0s 2ms/step - loss: 0.0945 - accuracy: 0.9682\n",
      "Epoch 44/100\n",
      "157/157 [==============================] - 0s 2ms/step - loss: 0.0962 - accuracy: 0.9674\n",
      "Epoch 45/100\n",
      "157/157 [==============================] - 0s 2ms/step - loss: 0.0875 - accuracy: 0.9694\n",
      "Epoch 46/100\n",
      "157/157 [==============================] - 0s 2ms/step - loss: 0.0937 - accuracy: 0.9696\n",
      "Epoch 47/100\n",
      "157/157 [==============================] - 0s 3ms/step - loss: 0.0962 - accuracy: 0.9670\n",
      "Epoch 48/100\n",
      "157/157 [==============================] - 0s 2ms/step - loss: 0.1129 - accuracy: 0.9644\n",
      "Epoch 49/100\n",
      "157/157 [==============================] - 0s 2ms/step - loss: 0.1045 - accuracy: 0.9666\n",
      "Epoch 50/100\n",
      "157/157 [==============================] - 0s 2ms/step - loss: 0.1033 - accuracy: 0.9672\n",
      "Epoch 51/100\n",
      "157/157 [==============================] - 0s 2ms/step - loss: 0.0928 - accuracy: 0.9690\n",
      "Epoch 52/100\n",
      "157/157 [==============================] - 0s 2ms/step - loss: 0.0936 - accuracy: 0.9680\n",
      "Epoch 53/100\n",
      "157/157 [==============================] - 0s 2ms/step - loss: 0.0909 - accuracy: 0.9720\n",
      "Epoch 54/100\n",
      "157/157 [==============================] - 0s 2ms/step - loss: 0.0910 - accuracy: 0.9706\n",
      "Epoch 55/100\n",
      "157/157 [==============================] - 0s 2ms/step - loss: 0.1077 - accuracy: 0.9656\n",
      "Epoch 56/100\n",
      "157/157 [==============================] - 0s 2ms/step - loss: 0.0868 - accuracy: 0.9718\n",
      "Epoch 57/100\n",
      "157/157 [==============================] - 0s 2ms/step - loss: 0.1016 - accuracy: 0.9668\n",
      "Epoch 58/100\n",
      "157/157 [==============================] - 0s 3ms/step - loss: 0.0866 - accuracy: 0.9702\n",
      "Epoch 59/100\n",
      "157/157 [==============================] - 0s 2ms/step - loss: 0.0949 - accuracy: 0.9668\n",
      "Epoch 60/100\n",
      "157/157 [==============================] - 0s 2ms/step - loss: 0.0929 - accuracy: 0.9690\n",
      "Epoch 61/100\n",
      "157/157 [==============================] - 0s 2ms/step - loss: 0.0860 - accuracy: 0.9720\n",
      "Epoch 62/100\n",
      "157/157 [==============================] - 0s 2ms/step - loss: 0.0840 - accuracy: 0.9724\n",
      "Epoch 63/100\n",
      "157/157 [==============================] - 0s 2ms/step - loss: 0.0854 - accuracy: 0.9726\n",
      "Epoch 64/100\n",
      "157/157 [==============================] - 0s 2ms/step - loss: 0.0906 - accuracy: 0.9692\n",
      "Epoch 65/100\n",
      "157/157 [==============================] - 0s 2ms/step - loss: 0.0838 - accuracy: 0.9728\n",
      "Epoch 66/100\n",
      "157/157 [==============================] - 0s 2ms/step - loss: 0.0854 - accuracy: 0.9730\n",
      "Epoch 67/100\n",
      "157/157 [==============================] - 0s 2ms/step - loss: 0.1293 - accuracy: 0.9656\n",
      "Epoch 68/100\n",
      "157/157 [==============================] - 0s 2ms/step - loss: 0.0910 - accuracy: 0.9712\n",
      "Epoch 69/100\n",
      "157/157 [==============================] - 0s 2ms/step - loss: 0.0843 - accuracy: 0.9746\n",
      "Epoch 70/100\n",
      "157/157 [==============================] - 0s 2ms/step - loss: 0.0890 - accuracy: 0.9714\n",
      "Epoch 71/100\n",
      "157/157 [==============================] - 0s 2ms/step - loss: 0.0833 - accuracy: 0.9736\n",
      "Epoch 72/100\n",
      "157/157 [==============================] - 0s 2ms/step - loss: 0.0882 - accuracy: 0.9714\n",
      "Epoch 73/100\n",
      "157/157 [==============================] - 0s 2ms/step - loss: 0.0814 - accuracy: 0.9732\n",
      "Epoch 74/100\n",
      "157/157 [==============================] - 0s 2ms/step - loss: 0.0803 - accuracy: 0.9744\n",
      "Epoch 75/100\n",
      "157/157 [==============================] - 0s 2ms/step - loss: 0.0918 - accuracy: 0.9698\n",
      "Epoch 76/100\n",
      "157/157 [==============================] - 0s 2ms/step - loss: 0.0888 - accuracy: 0.9710\n",
      "Epoch 77/100\n",
      "157/157 [==============================] - 0s 2ms/step - loss: 0.0822 - accuracy: 0.9748\n",
      "Epoch 78/100\n",
      "157/157 [==============================] - 0s 2ms/step - loss: 0.0728 - accuracy: 0.9748\n",
      "Epoch 79/100\n",
      "157/157 [==============================] - 0s 2ms/step - loss: 0.1046 - accuracy: 0.9634\n",
      "Epoch 80/100\n",
      "157/157 [==============================] - 0s 2ms/step - loss: 0.0798 - accuracy: 0.9738\n",
      "Epoch 81/100\n",
      "157/157 [==============================] - 0s 2ms/step - loss: 0.0889 - accuracy: 0.9718\n",
      "Epoch 82/100\n",
      "157/157 [==============================] - 0s 2ms/step - loss: 0.0764 - accuracy: 0.9754\n",
      "Epoch 83/100\n",
      "157/157 [==============================] - 0s 2ms/step - loss: 0.0829 - accuracy: 0.9714\n",
      "Epoch 84/100\n",
      "157/157 [==============================] - 0s 2ms/step - loss: 0.0806 - accuracy: 0.9754\n",
      "Epoch 85/100\n",
      "157/157 [==============================] - 0s 2ms/step - loss: 0.0802 - accuracy: 0.9720\n",
      "Epoch 86/100\n",
      "157/157 [==============================] - 0s 2ms/step - loss: 0.0786 - accuracy: 0.9740\n",
      "Epoch 87/100\n",
      "157/157 [==============================] - 0s 2ms/step - loss: 0.0995 - accuracy: 0.9670\n",
      "Epoch 88/100\n",
      "157/157 [==============================] - 0s 2ms/step - loss: 0.0728 - accuracy: 0.9764\n",
      "Epoch 89/100\n",
      "157/157 [==============================] - 0s 2ms/step - loss: 0.0855 - accuracy: 0.9720\n",
      "Epoch 90/100\n",
      "157/157 [==============================] - 0s 2ms/step - loss: 0.0793 - accuracy: 0.9736\n",
      "Epoch 91/100\n",
      "157/157 [==============================] - 0s 2ms/step - loss: 0.0708 - accuracy: 0.9758\n",
      "Epoch 92/100\n",
      "157/157 [==============================] - 0s 2ms/step - loss: 0.0826 - accuracy: 0.9728\n",
      "Epoch 93/100\n",
      "157/157 [==============================] - 0s 2ms/step - loss: 0.0790 - accuracy: 0.9758\n",
      "Epoch 94/100\n",
      "157/157 [==============================] - 0s 2ms/step - loss: 0.0776 - accuracy: 0.9742\n",
      "Epoch 95/100\n",
      "157/157 [==============================] - 0s 2ms/step - loss: 0.0762 - accuracy: 0.9730\n",
      "Epoch 96/100\n",
      "157/157 [==============================] - 0s 2ms/step - loss: 0.0911 - accuracy: 0.9700\n",
      "Epoch 97/100\n",
      "157/157 [==============================] - 0s 2ms/step - loss: 0.0775 - accuracy: 0.9738\n",
      "Epoch 98/100\n",
      "157/157 [==============================] - 0s 2ms/step - loss: 0.0693 - accuracy: 0.9762\n",
      "Epoch 99/100\n",
      "157/157 [==============================] - 0s 2ms/step - loss: 0.0765 - accuracy: 0.9726\n",
      "Epoch 100/100\n",
      "157/157 [==============================] - 0s 2ms/step - loss: 0.0753 - accuracy: 0.9756\n"
     ]
    },
    {
     "data": {
      "text/plain": "<keras.callbacks.History at 0x2897482f7f0>"
     },
     "execution_count": 13,
     "metadata": {},
     "output_type": "execute_result"
    }
   ],
   "source": [
    "modelNN = tf.keras.Sequential([\n",
    "    tf.keras.layers.Dense(128, activation='relu'),\n",
    "    tf.keras.layers.Dense(6)\n",
    "])\n",
    "modelNN.compile(optimizer='adam',\n",
    "              loss=tf.keras.losses.SparseCategoricalCrossentropy(from_logits=True),\n",
    "              metrics=['accuracy'])\n",
    "modelNN.fit(SignalsTrain, SignalLabelsTrain, epochs=100)\n"
   ]
  },
  {
   "cell_type": "code",
   "execution_count": 16,
   "id": "217d2afe",
   "metadata": {
    "pycharm": {
     "name": "#%%\n"
    }
   },
   "outputs": [
    {
     "name": "stdout",
     "output_type": "stream",
     "text": [
      "1\n",
      "2\n",
      "3\n",
      "4\n",
      "5\n",
      "157/157 - 0s - loss: 0.3389 - accuracy: 0.9270 - 213ms/epoch - 1ms/step\n",
      "157/157 [==============================] - 0s 1ms/step\n"
     ]
    }
   ],
   "source": [
    "\n",
    "BoxSignal=Generate('Box',x,Amount=1000)\n",
    "SawSignal=Generate('Saw',x,Amount=1000)\n",
    "ExpSignal=Generate('Exp',x,Amount=1000)\n",
    "SinSignal=Generate('Sin',x,Amount=1000)\n",
    "GausSignal=Generate('Gaus',x,Amount=1000)\n",
    "a=[BoxSignal[1],SawSignal[1],ExpSignal[1],SinSignal[1],GausSignal[1]]\n",
    "b=[BoxSignal[2],SawSignal[2],ExpSignal[2],SinSignal[2],GausSignal[2]]\n",
    "c=[np.zeros(1000),np.zeros(1000),ExpSignal[3],SinSignal[3],np.zeros(1000)]\n",
    "Signals=[BoxSignal[0],SawSignal[0],ExpSignal[0],SinSignal[0],GausSignal[0]]\n",
    "SignalLabels=[\n",
    "    1*np.ones(1000),\n",
    "    2*np.ones(1000),\n",
    "    3*np.ones(1000),\n",
    "    4*np.ones(1000),\n",
    "    5*np.ones(1000)]\n",
    "SignalsTest=np.array(np.concatenate(Signals).flat)\n",
    "a=np.array(np.concatenate(a).flat)\n",
    "b=np.array(np.concatenate(b).flat)\n",
    "c=np.array(np.concatenate(c).flat)\n",
    "\n",
    "SignalsTest=SignalsTest.reshape((5000,1500))\n",
    "SignalLabelsTest=np.array(np.concatenate(SignalLabels).flat)\n",
    "test_loss, woNoiseAcc = modelNN.evaluate(SignalsTest,  SignalLabelsTest, verbose=2,use_multiprocessing=True,)\n",
    "#modelNN.evaluate()\n",
    "#modelNN.predict_batch(BoxSignal[0])\n",
    "probability_model=tf.keras.Sequential([modelNN,tf.keras.layers.Softmax()])\n",
    "predictions=probability_model.predict(SignalsTest)"
   ]
  },
  {
   "cell_type": "code",
   "execution_count": 18,
   "outputs": [
    {
     "name": "stdout",
     "output_type": "stream",
     "text": [
      "1\n",
      "2\n",
      "3\n",
      "4\n",
      "5\n",
      "157/157 - 0s - loss: 0.3325 - accuracy: 0.9288 - 169ms/epoch - 1ms/step\n",
      "157/157 [==============================] - 0s 962us/step\n"
     ]
    }
   ],
   "source": [
    "\n",
    "BoxSignal=Generate('Box',x,fourier=True,N=80,Amount=1000)\n",
    "SawSignal=Generate('Saw',x,fourier=True,N=80,Amount=1000)\n",
    "ExpSignal=Generate('Exp',x,fourier=True,N=80,Amount=1000)\n",
    "SinSignal=Generate('Sin',x,fourier=True,N=80,Amount=1000)\n",
    "GausSignal=Generate('Gaus',x,fourier=True,N=points,M=80,Amount=1000)\n",
    "a=[BoxSignal[1],SawSignal[1],ExpSignal[1],SinSignal[1],GausSignal[1]]\n",
    "b=[BoxSignal[2],SawSignal[2],ExpSignal[2],SinSignal[2],GausSignal[2]]\n",
    "c=[np.zeros(1000),np.zeros(1000),ExpSignal[3],SinSignal[3],np.zeros(1000)]\n",
    "Signals=[BoxSignal[0],SawSignal[0],ExpSignal[0],SinSignal[0],GausSignal[0]]\n",
    "SignalLabels=[\n",
    "    1*np.ones(1000),\n",
    "    2*np.ones(1000),\n",
    "    3*np.ones(1000),\n",
    "    4*np.ones(1000),\n",
    "    5*np.ones(1000)]\n",
    "SignalsTest=np.array(np.concatenate(Signals).flat)\n",
    "a=np.array(np.concatenate(a).flat)\n",
    "b=np.array(np.concatenate(b).flat)\n",
    "c=np.array(np.concatenate(c).flat)\n",
    "\n",
    "SignalsTest=SignalsTest.reshape((5000,1500))\n",
    "SignalLabelsTest=np.array(np.concatenate(SignalLabels).flat)\n",
    "test_loss, woNoiseAcc = modelNN.evaluate(SignalsTest,  SignalLabelsTest, verbose=2,use_multiprocessing=True,)\n",
    "#modelNN.evaluate()\n",
    "#modelNN.predict_batch(BoxSignal[0])\n",
    "probability_model=tf.keras.Sequential([modelNN,tf.keras.layers.Softmax()])\n",
    "predictions=probability_model.predict(SignalsTest)"
   ],
   "metadata": {
    "collapsed": false,
    "pycharm": {
     "name": "#%%\n"
    }
   }
  },
  {
   "cell_type": "code",
   "execution_count": 17,
   "id": "56b1d594",
   "metadata": {
    "pycharm": {
     "name": "#%%\n"
    }
   },
   "outputs": [
    {
     "name": "stdout",
     "output_type": "stream",
     "text": [
      "1\n",
      "2\n",
      "3\n",
      "4\n",
      "5\n",
      "157/157 - 0s - loss: 0.0871 - accuracy: 0.9796 - 192ms/epoch - 1ms/step\n",
      "157/157 [==============================] - 0s 1ms/step\n"
     ]
    }
   ],
   "source": [
    "\n",
    "BoxSignal=Generate('Box',x,fourier=True,N=20,Amount=1000)\n",
    "SawSignal=Generate('Saw',x,fourier=True,N=20,Amount=1000)\n",
    "ExpSignal=Generate('Exp',x,fourier=True,N=20,Amount=1000)\n",
    "SinSignal=Generate('Sin',x,fourier=True,N=20,Amount=1000)\n",
    "GausSignal=Generate('Gaus',x,fourier=True,N=points,M=20,Amount=1000)\n",
    "a=[BoxSignal[1],SawSignal[1],ExpSignal[1],SinSignal[1],GausSignal[1]]\n",
    "b=[BoxSignal[2],SawSignal[2],ExpSignal[2],SinSignal[2],GausSignal[2]]\n",
    "c=[np.zeros(1000),np.zeros(1000),ExpSignal[3],SinSignal[3],np.zeros(1000)]\n",
    "Signals=[BoxSignal[0],SawSignal[0],ExpSignal[0],SinSignal[0],GausSignal[0]]\n",
    "SignalLabels=[\n",
    "    1*np.ones(1000),\n",
    "    2*np.ones(1000),\n",
    "    3*np.ones(1000),\n",
    "    4*np.ones(1000),\n",
    "    5*np.ones(1000)]\n",
    "SignalsTest=np.array(np.concatenate(Signals).flat)\n",
    "a=np.array(np.concatenate(a).flat)\n",
    "b=np.array(np.concatenate(b).flat)\n",
    "c=np.array(np.concatenate(c).flat)\n",
    "\n",
    "SignalsTest=SignalsTest.reshape((5000,1500))\n",
    "SignalLabelsTest=np.array(np.concatenate(SignalLabels).flat)\n",
    "test_loss, woNoiseAcc = modelNN.evaluate(SignalsTest,  SignalLabelsTest, verbose=2,use_multiprocessing=True,)\n",
    "#modelNN.evaluate()\n",
    "#modelNN.predict_batch(BoxSignal[0])\n",
    "probability_model=tf.keras.Sequential([modelNN,tf.keras.layers.Softmax()])\n",
    "predictions=probability_model.predict(SignalsTest)"
   ]
  },
  {
   "cell_type": "code",
   "execution_count": null,
   "outputs": [],
   "source": [],
   "metadata": {
    "collapsed": false,
    "pycharm": {
     "name": "#%%\n"
    }
   }
  },
  {
   "cell_type": "code",
   "execution_count": 145,
   "id": "dfa37b8f",
   "metadata": {
    "pycharm": {
     "name": "#%%\n"
    }
   },
   "outputs": [
    {
     "data": {
      "text/plain": [
       "5000"
      ]
     },
     "execution_count": 145,
     "metadata": {},
     "output_type": "execute_result"
    }
   ],
   "source": [
    "len(predictions)"
   ]
  },
  {
   "cell_type": "code",
   "execution_count": 23,
   "id": "2cca1946",
   "metadata": {
    "pycharm": {
     "name": "#%%\n"
    }
   },
   "outputs": [],
   "source": [
    "testResults=[]\n",
    "for i in range(len(predictions)):\n",
    "    A=np.max(predictions[i])\n",
    "    maxElement=np.where(predictions[i]==A)\n",
    "    testResults.append(maxElement[0][0])\n"
   ]
  },
  {
   "cell_type": "code",
   "execution_count": 18,
   "id": "db4e65cf",
   "metadata": {
    "pycharm": {
     "name": "#%%\n"
    }
   },
   "outputs": [
    {
     "data": {
      "text/plain": [
       "5000"
      ]
     },
     "execution_count": 18,
     "metadata": {},
     "output_type": "execute_result"
    }
   ],
   "source": [
    "len(testResults)"
   ]
  },
  {
   "cell_type": "code",
   "execution_count": 24,
   "id": "fb94f69a",
   "metadata": {
    "pycharm": {
     "name": "#%%\n"
    }
   },
   "outputs": [],
   "source": [
    "Model1Summ=pd.DataFrame()\n",
    "Model1Summ['Actual Classifcation']=SignalLabelsTest\n",
    "Model1Summ['Predicted Classification']=testResults\n",
    "Model1Summ['a']=a\n",
    "Model1Summ['b']=b\n",
    "Model1Summ['c']=c\n"
   ]
  },
  {
   "cell_type": "code",
   "execution_count": 28,
   "id": "ccf32226",
   "metadata": {
    "pycharm": {
     "name": "#%%\n"
    }
   },
   "outputs": [],
   "source": [
    "confusionMatrix=np.zeros((5,5),dtype=float)"
   ]
  },
  {
   "cell_type": "code",
   "execution_count": 29,
   "id": "08d3a81b",
   "metadata": {
    "pycharm": {
     "name": "#%%\n"
    }
   },
   "outputs": [
    {
     "data": {
      "text/plain": "array([[0., 0., 0., 0., 0.],\n       [0., 0., 0., 0., 0.],\n       [0., 0., 0., 0., 0.],\n       [0., 0., 0., 0., 0.],\n       [0., 0., 0., 0., 0.]])"
     },
     "execution_count": 29,
     "metadata": {},
     "output_type": "execute_result"
    }
   ],
   "source": [
    "confusionMatrix"
   ]
  },
  {
   "cell_type": "code",
   "execution_count": 31,
   "id": "ea207b4b",
   "metadata": {
    "pycharm": {
     "name": "#%%\n"
    }
   },
   "outputs": [],
   "source": [
    "\n",
    "#Model1Summ[0:1000]['Predicted Classifcation']==2\n",
    "box=Model1Summ[0:1000]\n",
    "saw=Model1Summ[1000:2000]\n",
    "exp=Model1Summ[2000:3000]\n",
    "sin=Model1Summ[3000:4000]\n",
    "gaus=Model1Summ[4000:5000]\n",
    "for i in range(5):\n",
    "    signal=Model1Summ[i*1000:(i+1)*1000]\n",
    "    confusionMatrix[i][0]=len(signal[signal['Predicted Classification']==1])/1000\n",
    "    confusionMatrix[i][1]=len(signal[signal['Predicted Classification']==2])/1000\n",
    "    confusionMatrix[i][2]=len(signal[signal['Predicted Classification']==3])/1000\n",
    "    confusionMatrix[i][3]=len(signal[signal['Predicted Classification']==4])/1000\n",
    "    confusionMatrix[i][4]=len(signal[signal['Predicted Classification']==5])/1000"
   ]
  },
  {
   "cell_type": "code",
   "execution_count": 32,
   "outputs": [
    {
     "data": {
      "text/plain": "array([[0.987, 0.   , 0.   , 0.   , 0.013],\n       [0.   , 1.   , 0.   , 0.   , 0.   ],\n       [0.006, 0.002, 0.992, 0.   , 0.   ],\n       [0.   , 0.042, 0.   , 0.958, 0.   ],\n       [0.003, 0.   , 0.   , 0.   , 0.997]])"
     },
     "execution_count": 32,
     "metadata": {},
     "output_type": "execute_result"
    }
   ],
   "source": [
    "confusionMatrix"
   ],
   "metadata": {
    "collapsed": false,
    "pycharm": {
     "name": "#%%\n"
    }
   }
  },
  {
   "cell_type": "markdown",
   "id": "7d129a18",
   "metadata": {
    "pycharm": {
     "name": "#%% md\n"
    }
   },
   "source": []
  },
  {
   "cell_type": "code",
   "execution_count": 33,
   "id": "25eee10c",
   "metadata": {
    "pycharm": {
     "name": "#%%\n"
    }
   },
   "outputs": [],
   "source": [
    "Model1Summ.to_csv('Model3Results.csv')"
   ]
  },
  {
   "cell_type": "code",
   "execution_count": null,
   "outputs": [],
   "source": [],
   "metadata": {
    "collapsed": false,
    "pycharm": {
     "name": "#%%\n"
    }
   }
  },
  {
   "cell_type": "code",
   "execution_count": 34,
   "id": "4e829ace",
   "metadata": {
    "pycharm": {
     "name": "#%%\n"
    }
   },
   "outputs": [
    {
     "name": "stdout",
     "output_type": "stream",
     "text": [
      "INFO:tensorflow:Assets written to: Model3TrainedTF\\assets\n"
     ]
    }
   ],
   "source": [
    "modelNN.save('Model3TrainedTF')"
   ]
  }
 ],
 "metadata": {
  "accelerator": "GPU",
  "colab": {
   "collapsed_sections": [],
   "name": "ClassifyingSignals.ipynb",
   "provenance": [],
   "toc_visible": true
  },
  "kernelspec": {
   "display_name": "Python 3 (ipykernel)",
   "language": "python",
   "name": "python3"
  },
  "language_info": {
   "codemirror_mode": {
    "name": "ipython",
    "version": 3
   },
   "file_extension": ".py",
   "mimetype": "text/x-python",
   "name": "python",
   "nbconvert_exporter": "python",
   "pygments_lexer": "ipython3",
   "version": "3.9.12"
  }
 },
 "nbformat": 4,
 "nbformat_minor": 5
}
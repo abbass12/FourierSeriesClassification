{
 "cells": [
  {
   "cell_type": "markdown",
   "id": "FrJ2h72z15eK",
   "metadata": {
    "id": "FrJ2h72z15eK",
    "pycharm": {
     "name": "#%% md\n"
    }
   },
   "source": [
    "# Signal Classifier"
   ]
  },
  {
   "cell_type": "markdown",
   "id": "Np8XS8WX2Dqd",
   "metadata": {
    "id": "Np8XS8WX2Dqd",
    "pycharm": {
     "name": "#%% md\n"
    }
   },
   "source": [
    "## Library Imports"
   ]
  },
  {
   "cell_type": "code",
   "execution_count": 1,
   "id": "7dbb2831-db87-4870-a196-8d028fa60fc2",
   "metadata": {
    "executionInfo": {
     "elapsed": 8084,
     "status": "ok",
     "timestamp": 1652457976225,
     "user": {
      "displayName": "Abbass",
      "userId": "15291878327143677964"
     },
     "user_tz": 240
    },
    "id": "7dbb2831-db87-4870-a196-8d028fa60fc2",
    "pycharm": {
     "name": "#%%\n"
    }
   },
   "outputs": [],
   "source": [
    "import numpy as np\n",
    "import pandas as pd\n",
    "import plotly.graph_objects as go\n",
    "import tensorflow as tf\n",
    "#np.seterr(divide='ignore', invalid='ignore')\n",
    "import warnings\n",
    "warnings.filterwarnings(\"ignore\", category=FutureWarning)\n",
    "def plot(fig,x,y,name):\n",
    "    fig.add_trace(go.Scatter(x=x,y=y,mode='lines',name=name))\n"
   ]
  },
  {
   "cell_type": "markdown",
   "id": "Cjpiet1L2JBF",
   "metadata": {
    "id": "Cjpiet1L2JBF",
    "pycharm": {
     "name": "#%% md\n"
    }
   },
   "source": [
    "## Defintion of Different Signal Functions"
   ]
  },
  {
   "cell_type": "code",
   "execution_count": 2,
   "outputs": [],
   "source": [
    "def dft(N,M=40):\n",
    "    #w=np.e**((2*np.pi*-1j)/N)\n",
    "    power=np.zeros((M,N),dtype=complex)\n",
    "    xj = np.linspace(-np.pi, np.pi, N)\n",
    "    for i in range(M):\n",
    "        for j in range(N):\n",
    "            #power[i][j]=((-N/2)+i)*j\n",
    "            power[i][j] = -1j*(i-M/2)*xj[j]\n",
    "    #DFT=(w**power)/N\n",
    "    DFT = np.e**power\n",
    "    return DFT\n",
    "def box(x,a=2,b=5,normalized=True,noise=False,noiseParameter=0.1,fourier=False,N=40):\n",
    "    if fourier:\n",
    "        k=np.linspace(int((-N/2)),int((N/2)),N+1)\n",
    "        fkhat=np.zeros(len(k))\n",
    "        fkhat[k==0]=(2*a*b)\n",
    "        fkhat[k!=0]=((2*b*np.sin(a*k[k!=0]))/k[k!=0])\n",
    "        y=fkhat/(2*np.pi)\n",
    "        if normalized:\n",
    "            return y/np.max(abs(box(x,a,b,normalized=False)))\n",
    "        return y\n",
    "    y=np.zeros(len(x))\n",
    "    y[np.abs(x)<a]=b\n",
    "    if noise:\n",
    "        y=y+np.random.normal(0,noiseParameter,len(x))\n",
    "        if normalized:\n",
    "            return y/np.max(abs(box(x,a,b,normalized=False)))\n",
    "        return y\n",
    "    if normalized:\n",
    "        return y/np.max(abs(y))\n",
    "    return y\n",
    "def saw(x,a=2,b=5,normalized=True,noise=False,noiseParameter=0.1,fourier=False,N=40):\n",
    "    if fourier:\n",
    "        k=np.linspace(int((-N/2)),int((N/2)),N+1)\n",
    "        fkhat=np.zeros(len(k)).astype(complex)\n",
    "        fkhat[k==0]=0\n",
    "        fkhat[k!=0]=(2*1j*b*(np.sin(a*k[k!=0])-a*k[k!=0]*np.cos(a*k[k!=0])))/(k[k!=0]**2)\n",
    "        y=fkhat/(2*np.pi)\n",
    "        if normalized:\n",
    "            return y/np.max(abs(saw(x,a,b,normalized=False)))\n",
    "        return y\n",
    "    y=np.zeros(len(x))\n",
    "    y[np.abs(x)<a]=-b*x[np.abs(x)<a]\n",
    "    if noise:\n",
    "        y=y+np.random.normal(0,noiseParameter,len(x))\n",
    "        if normalized:\n",
    "            return y/np.max(abs(saw(x,a,b,normalized=False)))\n",
    "        return y\n",
    "    if normalized:\n",
    "        return y/np.max(abs(y))\n",
    "    return y\n",
    "def exp(x,a=2,b=2,c=-1,normalized=True,noise=False,noiseParameter=0.1,fourier=False,N=40):\n",
    "    if fourier:\n",
    "        k=np.linspace(int((-N/2)),int((N/2)),N+1).astype(complex)\n",
    "        fkhat=np.zeros(len(k)).astype(complex)\n",
    "        fkhat[k==0]=(2*((a*b*c)+np.sinh(a*b)))/b\n",
    "        fkhat[k!=0]=((2*c*np.sin(a*k[k!=0]))/k[k!=0])+((2*np.sinh(a*(b+(1j*k[k!=0]))))/(b+(1j*k[k!=0])))\n",
    "        y=fkhat/(2*np.pi)\n",
    "        if normalized:\n",
    "            return y/np.max(abs(exp(x,a,b,c,normalized=False)))\n",
    "        return y\n",
    "    y=np.zeros(len(x))\n",
    "    y[np.abs(x)<a]=c+np.e**(-b*x[[np.abs(x)<a]])\n",
    "    if noise:\n",
    "        y=y+np.random.normal(0,noiseParameter,len(x))\n",
    "        if normalized:\n",
    "           return y/np.max(abs(exp(x,a,b,c,normalized=False)))\n",
    "        return y\n",
    "    if normalized:\n",
    "        return y/np.max(abs(y))\n",
    "    return y\n",
    "def sinu(x,a=2,b=2,c=-1,normalized=True,noise=False,noiseParameter=0.1,fourier=False,N=40):\n",
    "    if fourier:\n",
    "        k=np.linspace(int((-N/2)),int((N/2)),N+1).astype(complex)\n",
    "        fkhat=np.zeros(len(k)).astype(complex)\n",
    "        fkhat[k==b]=((1j*c*np.sin(2*a*b))/(2*b))-(1j*a*c)\n",
    "        fkhat[k==-b]=(1/2)*1j*c*((2*a)-((np.sin(2*a*b))/b))\n",
    "        fkhat[k!=b]=(2*1j*c*((b*np.cos(a*b)*np.sin(a*k[k!=b]))-(k[k!=b]*np.sin(a*b)*np.cos(a*k[k!=b]))))/((b**2)-(k[k!=b]**2))\n",
    "        y=fkhat/(2*np.pi)\n",
    "        if normalized:\n",
    "            return y/np.max(abs(sinu(x,a,b,c,normalized=False)))\n",
    "        return y\n",
    "    y=np.zeros(len(x))\n",
    "    y[np.abs(x)<a]=c*np.sin(b*x[np.abs(x)<a])\n",
    "    if noise:\n",
    "        y=y+np.random.normal(0,noiseParameter,len(x))\n",
    "        if normalized:\n",
    "            return y/np.max(abs(sinu(x,a,b,c,normalized=False)))\n",
    "        return y\n",
    "    if normalized:\n",
    "        return y/np.max(abs(y))\n",
    "    return y\n",
    "def gaus(x,a=2,b=2,normalized=True,noise=False,noiseParameter=0.1,fourier=False,N=40,M=40):\n",
    "    if fourier:\n",
    "        fkhat=((np.dot(dft(N,M),gaus(x,a,b)))/N)\n",
    "        if normalized:\n",
    "            return fkhat/np.max(abs(gaus(x,a,b,normalized=False)))\n",
    "        return fkhat\n",
    "    y=np.zeros(len(x))\n",
    "    y[np.abs(x)<a]=np.e**(-a*(x[np.abs(x)<a]**(2*b)))\n",
    "    y=np.nan_to_num(y)\n",
    "    if noise:\n",
    "        y=y+np.random.normal(0,noiseParameter,len(x))\n",
    "        if normalized:\n",
    "            return y/np.max(abs(gaus(x,a,b,normalized=False)))\n",
    "        return y\n",
    "    if normalized:\n",
    "        return y/np.max(abs(y))\n",
    "    return y\n",
    "def FourierSeries(cn,X,N):\n",
    "    fx=[]\n",
    "    '''\n",
    "    Cn=np.zeros(len(cn))\n",
    "    Cn[0]=cn[int(N/2)]\n",
    "    Cn[1:int(N/2)-1]=cn[1:int(N/2)-1]\n",
    "    Cn[int(N/2)+1:N]=cn[int(N/2)+1:N]\n",
    "    fx=np.fft.ifft(Cn)\n",
    "    '''\n",
    "    \n",
    "    for x in X:\n",
    "        result=0\n",
    "        for i in range(int((-N/2)),int((N/2))):\n",
    "            result=result+cn[int(i+(N/2))]*(np.e**(1j*i*x)) #Calculate Fourier Series approximation using formula\n",
    "        fx.append(result.real)\n",
    "    return fx"
   ],
   "metadata": {
    "collapsed": false,
    "pycharm": {
     "name": "#%%\n"
    }
   }
  },
  {
   "cell_type": "code",
   "execution_count": 3,
   "outputs": [],
   "source": [
    "SignalsDict={'Box':1,'Saw':2,'Exp':3,'Sin':4,'Gaus':5}\n",
    "def Generate(signal,x,Amount,normalized=True,fourier=False,N=40,M=40,Noise=False,noiseParameter=0.1):\n",
    "    signalOutput=[]\n",
    "    length=Amount+len(x)\n",
    "    print(SignalsDict[signal])\n",
    "    if(SignalsDict[signal]==1):\n",
    "        #a=np.linspace(np.pi/4,np.pi/2,len(x))\n",
    "        a=np.linspace(.10,2.90,length)\n",
    "        b=np.append(np.linspace(-100,-0.01,int(length/2)),np.linspace(0.01,100,int(length/2)))\n",
    "        a=np.random.permutation(a)\n",
    "        b=np.random.permutation(b)\n",
    "        if fourier:\n",
    "            print(a[0])\n",
    "            for i in range(Amount):\n",
    "                cn=box(x,a[i],b[i],normalized=normalized,fourier=True,N=N)\n",
    "                normalization=1#np.max(abs(F))\n",
    "                #BoxSignal.append(F/normalization)\n",
    "                #BoxSignalFourier.append(fx)\n",
    "                signalOutput.append(FourierSeries(cn,x,N))\n",
    "            return [signalOutput,a[0:Amount],b[0:Amount]]\n",
    "        elif Noise:\n",
    "            for i in range(Amount):\n",
    "                F=box(x,a[i],b[i],noise=True,normalized=normalized,noiseParameter=noiseParameter)\n",
    "                signalOutput.append(F)\n",
    "            return [signalOutput,a[0:Amount],b[0:Amount]]\n",
    "        else:\n",
    "            for i in range(Amount):\n",
    "                F=box(x,a[i],b[i],normalized=normalized)\n",
    "                #normalization=1#np.max(abs(F))\n",
    "                #BoxSignal.append(F/normalization)\n",
    "                #BoxSignalFourier.append(fx)\n",
    "                signalOutput.append(F)\n",
    "            return [signalOutput,a[0:Amount],b[0:Amount]]\n",
    "    elif(SignalsDict[signal]==2):\n",
    "        a=np.linspace(np.pi/4,np.pi/2,length)\n",
    "        b=np.append(np.linspace(-100,-0.01,int(length/2)),np.linspace(0.01,100,int(length/2)))\n",
    "        a=np.random.permutation(a)\n",
    "        b=np.random.permutation(b)\n",
    "        if fourier:\n",
    "            print(a[0])\n",
    "            for i in range(Amount):\n",
    "                cn=saw(x,a[i],b[i],normalized=normalized\n",
    "                ,fourier=True,N=N)\n",
    "                signalOutput.append(FourierSeries(cn,x,N))\n",
    "            return [signalOutput,a[0:Amount],b[0:Amount]]\n",
    "        elif Noise:\n",
    "            for i in range(Amount):\n",
    "                F=saw(x,a[i],b[i],noise=True,normalized=normalized,noiseParameter=noiseParameter)\n",
    "                signalOutput.append(F)\n",
    "            return [signalOutput,a[0:Amount],b[0:Amount]]\n",
    "        else:\n",
    "            for i in range(Amount):\n",
    "                F=saw(x,a[i],b[i],normalized=normalized)\n",
    "                signalOutput.append(F)\n",
    "            return [signalOutput,a[0:Amount],b[0:Amount]]\n",
    "    elif(SignalsDict[signal]==3):\n",
    "        a=np.linspace(np.pi/4,np.pi/2,length)\n",
    "        b=np.append(np.linspace(-1,-0.1,int(length/2)),np.linspace(0.1,1,int(length/2)))\n",
    "        c=np.append(np.linspace(-3,-1.01,int(length/2)),np.linspace(-1.01,1,int(length/2)))\n",
    "        a=np.random.permutation(a)\n",
    "        b=np.random.permutation(b)\n",
    "        c=np.random.permutation(c)\n",
    "        if fourier:\n",
    "            print(a[0])\n",
    "            for i in range(Amount):\n",
    "                cn=exp(x,a[i],b[i],c[i],normalized=normalized\n",
    "                ,fourier=True,N=N)\n",
    "                signalOutput.append(FourierSeries(cn,x,N))\n",
    "            return [signalOutput,a[0:Amount],b[0:Amount],c[0:Amount]]\n",
    "        elif Noise:\n",
    "            for i in range(Amount):\n",
    "                F=exp(x,a[i],b[i],c[i],noise=True,normalized=normalized,noiseParameter=noiseParameter)\n",
    "                signalOutput.append(F)\n",
    "            return [signalOutput,a[0:Amount],b[0:Amount],c[0:Amount]]\n",
    "        else:\n",
    "            for i in range(Amount):\n",
    "                F=exp(x,a[i],b[i],c[i],normalized=normalized)\n",
    "                signalOutput.append(F)\n",
    "            return [signalOutput,a[0:Amount],b[0:Amount],c[0:Amount]]\n",
    "    elif(SignalsDict[signal]==4):\n",
    "        a=np.linspace(np.pi/4,np.pi/2,length)\n",
    "        b=np.append(np.linspace(-2*np.pi,-0.3,int(length/2)),np.linspace(0.3,2*np.pi,int(length/2)))\n",
    "        c=np.append(np.linspace(-100,-0.1,int(length/2)),np.linspace(0.1,100,int(length/2)))\n",
    "        a=np.random.permutation(a)\n",
    "        b=np.random.permutation(b)\n",
    "        c=np.random.permutation(c)\n",
    "        if fourier:\n",
    "            print(a[0])\n",
    "            for i in range(Amount):\n",
    "                cn=sinu(x,a[i],b[i],c[i],normalized=normalized\n",
    "                ,fourier=True,N=N)\n",
    "                signalOutput.append(FourierSeries(cn,x,N))\n",
    "            return [signalOutput,a[0:Amount],b[0:Amount],c[0:Amount]]\n",
    "        elif Noise:\n",
    "            for i in range(Amount):\n",
    "                F=sinu(x,a[i],b[i],c[i],noise=True,normalized=normalized,noiseParameter=noiseParameter)\n",
    "                signalOutput.append(F)\n",
    "            return [signalOutput,a[0:Amount],b[0:Amount],c[0:Amount]]\n",
    "        else:\n",
    "            for i in range(Amount):\n",
    "                F=sinu(x,a[i],b[i],c[i],normalized=normalized)\n",
    "                signalOutput.append(F)\n",
    "            return [signalOutput,a[0:Amount],b[0:Amount],c[0:Amount]]\n",
    "    elif(SignalsDict[signal]==5):\n",
    "        a=np.linspace(np.pi/4,np.pi/2,length)\n",
    "        b=np.append(np.linspace(-10,-1,int(length/2)),np.linspace(1,10,int(length/2)))\n",
    "        a=np.random.permutation(a)\n",
    "        b=np.random.permutation(b)\n",
    "\n",
    "        if fourier:\n",
    "            print(a[0])\n",
    "            for i in range(Amount):\n",
    "                x=np.linspace(-np.pi,np.pi,N)\n",
    "                cn=gaus(x,a[i],int(b[i]),normalized=normalized,fourier=True,N=N,M=M)\n",
    "                signalOutput.append(FourierSeries(cn,x,M))\n",
    "            return [signalOutput,a[0:Amount],b[0:Amount]]\n",
    "        elif Noise:\n",
    "            for i in range(Amount):\n",
    "                F=gaus(x,a[i],int(b[i]),noise=True,normalized=normalized,noiseParameter=noiseParameter)\n",
    "                signalOutput.append(F)\n",
    "            return [signalOutput,a[0:Amount],b[0:Amount]]\n",
    "        else:\n",
    "            for i in range(Amount):\n",
    "                F=gaus(x,a[i],int(b[i]),normalized=normalized)\n",
    "                signalOutput.append(F)\n",
    "            return [signalOutput,a[0:Amount],b[0:Amount]]"
   ],
   "metadata": {
    "collapsed": false,
    "pycharm": {
     "name": "#%%\n"
    }
   }
  },
  {
   "cell_type": "markdown",
   "id": "iCZSEmcmsbN7",
   "metadata": {
    "id": "iCZSEmcmsbN7",
    "pycharm": {
     "name": "#%% md\n"
    }
   },
   "source": [
    "## Testing\n",
    "###"
   ]
  },
  {
   "cell_type": "code",
   "execution_count": 8,
   "outputs": [
    {
     "name": "stdout",
     "output_type": "stream",
     "text": [
      "1\n",
      "2\n",
      "3\n",
      "4\n",
      "5\n"
     ]
    }
   ],
   "source": [
    "x=np.linspace(-np.pi,np.pi,100)\n",
    "\n",
    "BoxSignal=Generate('Box',x,Amount=1000)\n",
    "SawSignal=Generate('Saw',x,Amount=1000)\n",
    "ExpSignal=Generate('Exp',x,Amount=1000)\n",
    "SinSignal=Generate('Sin',x,Amount=1000)\n",
    "GausSignal=Generate('Gaus',x,Amount=1000)\n",
    "\n",
    "#parameters\n",
    "\n",
    "\n"
   ],
   "metadata": {
    "collapsed": false,
    "pycharm": {
     "name": "#%%\n"
    }
   }
  },
  {
   "cell_type": "code",
   "execution_count": 70,
   "outputs": [
    {
     "data": {
      "text/plain": "(100, 100)"
     },
     "execution_count": 70,
     "metadata": {},
     "output_type": "execute_result"
    }
   ],
   "source": [
    "np.shape(BoxSignal)"
   ],
   "metadata": {
    "collapsed": false,
    "pycharm": {
     "name": "#%%\n"
    }
   }
  },
  {
   "cell_type": "code",
   "execution_count": 11,
   "outputs": [],
   "source": [
    "Signals=[BoxSignal[0],SawSignal[0],ExpSignal[0],SinSignal[0],GausSignal[0]]\n",
    "SignalLabels=[\n",
    "    1*np.ones(1000),\n",
    "    2*np.ones(1000),\n",
    "    3*np.ones(1000),\n",
    "    4*np.ones(1000),\n",
    "    5*np.ones(1000)]\n",
    "SignalsTrain=np.array(np.concatenate(Signals).flat)\n",
    "SignalsTrain=SignalsTrain.reshape((5000,100))\n",
    "SignalLabelsTrain=np.array(np.concatenate(SignalLabels).flat)"
   ],
   "metadata": {
    "collapsed": false,
    "pycharm": {
     "name": "#%%\n"
    }
   }
  },
  {
   "cell_type": "code",
   "execution_count": 130,
   "outputs": [
    {
     "data": {
      "text/plain": "(500, 100)"
     },
     "execution_count": 130,
     "metadata": {},
     "output_type": "execute_result"
    }
   ],
   "source": [
    "np.shape(SignalsTrain)"
   ],
   "metadata": {
    "collapsed": false,
    "pycharm": {
     "name": "#%%\n"
    }
   }
  },
  {
   "cell_type": "code",
   "execution_count": 12,
   "outputs": [
    {
     "name": "stdout",
     "output_type": "stream",
     "text": [
      "Epoch 1/100\n",
      "157/157 [==============================] - 1s 2ms/step - loss: 0.8703 - accuracy: 0.6884\n",
      "Epoch 2/100\n",
      "157/157 [==============================] - 0s 2ms/step - loss: 0.4641 - accuracy: 0.8552\n",
      "Epoch 3/100\n",
      "157/157 [==============================] - 0s 2ms/step - loss: 0.3483 - accuracy: 0.8858\n",
      "Epoch 4/100\n",
      "157/157 [==============================] - 0s 2ms/step - loss: 0.2924 - accuracy: 0.9056\n",
      "Epoch 5/100\n",
      "157/157 [==============================] - 0s 2ms/step - loss: 0.2503 - accuracy: 0.9232\n",
      "Epoch 6/100\n",
      "157/157 [==============================] - 0s 3ms/step - loss: 0.2250 - accuracy: 0.9288\n",
      "Epoch 7/100\n",
      "157/157 [==============================] - 0s 3ms/step - loss: 0.2080 - accuracy: 0.9340\n",
      "Epoch 8/100\n",
      "157/157 [==============================] - 0s 3ms/step - loss: 0.1954 - accuracy: 0.9382\n",
      "Epoch 9/100\n",
      "157/157 [==============================] - 0s 3ms/step - loss: 0.1781 - accuracy: 0.9426\n",
      "Epoch 10/100\n",
      "157/157 [==============================] - 0s 3ms/step - loss: 0.1677 - accuracy: 0.9472\n",
      "Epoch 11/100\n",
      "157/157 [==============================] - 0s 3ms/step - loss: 0.1631 - accuracy: 0.9480\n",
      "Epoch 12/100\n",
      "157/157 [==============================] - 0s 3ms/step - loss: 0.1524 - accuracy: 0.9508\n",
      "Epoch 13/100\n",
      "157/157 [==============================] - 0s 3ms/step - loss: 0.1447 - accuracy: 0.9494\n",
      "Epoch 14/100\n",
      "157/157 [==============================] - 0s 3ms/step - loss: 0.1375 - accuracy: 0.9534\n",
      "Epoch 15/100\n",
      "157/157 [==============================] - 0s 3ms/step - loss: 0.1327 - accuracy: 0.9556\n",
      "Epoch 16/100\n",
      "157/157 [==============================] - 0s 3ms/step - loss: 0.1281 - accuracy: 0.9564\n",
      "Epoch 17/100\n",
      "157/157 [==============================] - 0s 3ms/step - loss: 0.1227 - accuracy: 0.9570\n",
      "Epoch 18/100\n",
      "157/157 [==============================] - 0s 3ms/step - loss: 0.1219 - accuracy: 0.9580\n",
      "Epoch 19/100\n",
      "157/157 [==============================] - 0s 3ms/step - loss: 0.1160 - accuracy: 0.9606\n",
      "Epoch 20/100\n",
      "157/157 [==============================] - 0s 3ms/step - loss: 0.1149 - accuracy: 0.9612\n",
      "Epoch 21/100\n",
      "157/157 [==============================] - 0s 3ms/step - loss: 0.1113 - accuracy: 0.9626\n",
      "Epoch 22/100\n",
      "157/157 [==============================] - 0s 3ms/step - loss: 0.1092 - accuracy: 0.9624\n",
      "Epoch 23/100\n",
      "157/157 [==============================] - 0s 3ms/step - loss: 0.1058 - accuracy: 0.9628\n",
      "Epoch 24/100\n",
      "157/157 [==============================] - 0s 3ms/step - loss: 0.0999 - accuracy: 0.9656\n",
      "Epoch 25/100\n",
      "157/157 [==============================] - 0s 3ms/step - loss: 0.0975 - accuracy: 0.9650\n",
      "Epoch 26/100\n",
      "157/157 [==============================] - 0s 3ms/step - loss: 0.0996 - accuracy: 0.9656\n",
      "Epoch 27/100\n",
      "157/157 [==============================] - 0s 3ms/step - loss: 0.0984 - accuracy: 0.9660\n",
      "Epoch 28/100\n",
      "157/157 [==============================] - 0s 3ms/step - loss: 0.0945 - accuracy: 0.9694\n",
      "Epoch 29/100\n",
      "157/157 [==============================] - 0s 3ms/step - loss: 0.0941 - accuracy: 0.9680\n",
      "Epoch 30/100\n",
      "157/157 [==============================] - 0s 3ms/step - loss: 0.0925 - accuracy: 0.9696\n",
      "Epoch 31/100\n",
      "157/157 [==============================] - 0s 3ms/step - loss: 0.0862 - accuracy: 0.9704\n",
      "Epoch 32/100\n",
      "157/157 [==============================] - 0s 3ms/step - loss: 0.0860 - accuracy: 0.9702\n",
      "Epoch 33/100\n",
      "157/157 [==============================] - 0s 3ms/step - loss: 0.0855 - accuracy: 0.9698\n",
      "Epoch 34/100\n",
      "157/157 [==============================] - 0s 3ms/step - loss: 0.0888 - accuracy: 0.9696\n",
      "Epoch 35/100\n",
      "157/157 [==============================] - 0s 3ms/step - loss: 0.0882 - accuracy: 0.9716\n",
      "Epoch 36/100\n",
      "157/157 [==============================] - 0s 3ms/step - loss: 0.0847 - accuracy: 0.9720\n",
      "Epoch 37/100\n",
      "157/157 [==============================] - 0s 3ms/step - loss: 0.0834 - accuracy: 0.9714\n",
      "Epoch 38/100\n",
      "157/157 [==============================] - 0s 3ms/step - loss: 0.0826 - accuracy: 0.9714\n",
      "Epoch 39/100\n",
      "157/157 [==============================] - 0s 3ms/step - loss: 0.0794 - accuracy: 0.9738\n",
      "Epoch 40/100\n",
      "157/157 [==============================] - 0s 3ms/step - loss: 0.0823 - accuracy: 0.9706\n",
      "Epoch 41/100\n",
      "157/157 [==============================] - 0s 3ms/step - loss: 0.0814 - accuracy: 0.9748\n",
      "Epoch 42/100\n",
      "157/157 [==============================] - 0s 3ms/step - loss: 0.0805 - accuracy: 0.9724\n",
      "Epoch 43/100\n",
      "157/157 [==============================] - 0s 3ms/step - loss: 0.0809 - accuracy: 0.9730\n",
      "Epoch 44/100\n",
      "157/157 [==============================] - 0s 3ms/step - loss: 0.0726 - accuracy: 0.9756\n",
      "Epoch 45/100\n",
      "157/157 [==============================] - 0s 3ms/step - loss: 0.0744 - accuracy: 0.9740\n",
      "Epoch 46/100\n",
      "157/157 [==============================] - 0s 3ms/step - loss: 0.0733 - accuracy: 0.9744\n",
      "Epoch 47/100\n",
      "157/157 [==============================] - 0s 3ms/step - loss: 0.0724 - accuracy: 0.9758\n",
      "Epoch 48/100\n",
      "157/157 [==============================] - 0s 3ms/step - loss: 0.0707 - accuracy: 0.9764\n",
      "Epoch 49/100\n",
      "157/157 [==============================] - 0s 3ms/step - loss: 0.0742 - accuracy: 0.9750\n",
      "Epoch 50/100\n",
      "157/157 [==============================] - 0s 3ms/step - loss: 0.0697 - accuracy: 0.9766\n",
      "Epoch 51/100\n",
      "157/157 [==============================] - 0s 3ms/step - loss: 0.0709 - accuracy: 0.9766\n",
      "Epoch 52/100\n",
      "157/157 [==============================] - 0s 3ms/step - loss: 0.0722 - accuracy: 0.9764\n",
      "Epoch 53/100\n",
      "157/157 [==============================] - 0s 3ms/step - loss: 0.0716 - accuracy: 0.9760\n",
      "Epoch 54/100\n",
      "157/157 [==============================] - 0s 3ms/step - loss: 0.0702 - accuracy: 0.9764\n",
      "Epoch 55/100\n",
      "157/157 [==============================] - 0s 3ms/step - loss: 0.0696 - accuracy: 0.9760\n",
      "Epoch 56/100\n",
      "157/157 [==============================] - 0s 3ms/step - loss: 0.0699 - accuracy: 0.9756\n",
      "Epoch 57/100\n",
      "157/157 [==============================] - 0s 3ms/step - loss: 0.0689 - accuracy: 0.9776\n",
      "Epoch 58/100\n",
      "157/157 [==============================] - 0s 3ms/step - loss: 0.0689 - accuracy: 0.9776\n",
      "Epoch 59/100\n",
      "157/157 [==============================] - 0s 3ms/step - loss: 0.0677 - accuracy: 0.9754\n",
      "Epoch 60/100\n",
      "157/157 [==============================] - 0s 2ms/step - loss: 0.0680 - accuracy: 0.9774\n",
      "Epoch 61/100\n",
      "157/157 [==============================] - 0s 2ms/step - loss: 0.0643 - accuracy: 0.9792\n",
      "Epoch 62/100\n",
      "157/157 [==============================] - 0s 3ms/step - loss: 0.0668 - accuracy: 0.9784\n",
      "Epoch 63/100\n",
      "157/157 [==============================] - 0s 3ms/step - loss: 0.0647 - accuracy: 0.9774\n",
      "Epoch 64/100\n",
      "157/157 [==============================] - 0s 2ms/step - loss: 0.0655 - accuracy: 0.9790\n",
      "Epoch 65/100\n",
      "157/157 [==============================] - 0s 2ms/step - loss: 0.0676 - accuracy: 0.9760\n",
      "Epoch 66/100\n",
      "157/157 [==============================] - 0s 2ms/step - loss: 0.0643 - accuracy: 0.9786\n",
      "Epoch 67/100\n",
      "157/157 [==============================] - 0s 2ms/step - loss: 0.0642 - accuracy: 0.9788\n",
      "Epoch 68/100\n",
      "157/157 [==============================] - 0s 2ms/step - loss: 0.0678 - accuracy: 0.9766\n",
      "Epoch 69/100\n",
      "157/157 [==============================] - 0s 2ms/step - loss: 0.0606 - accuracy: 0.9782\n",
      "Epoch 70/100\n",
      "157/157 [==============================] - 0s 2ms/step - loss: 0.0600 - accuracy: 0.9800\n",
      "Epoch 71/100\n",
      "157/157 [==============================] - 0s 2ms/step - loss: 0.0642 - accuracy: 0.9792\n",
      "Epoch 72/100\n",
      "157/157 [==============================] - 0s 2ms/step - loss: 0.0604 - accuracy: 0.9778\n",
      "Epoch 73/100\n",
      "157/157 [==============================] - 0s 2ms/step - loss: 0.0619 - accuracy: 0.9798\n",
      "Epoch 74/100\n",
      "157/157 [==============================] - 0s 2ms/step - loss: 0.0600 - accuracy: 0.9800\n",
      "Epoch 75/100\n",
      "157/157 [==============================] - 0s 2ms/step - loss: 0.0640 - accuracy: 0.9772\n",
      "Epoch 76/100\n",
      "157/157 [==============================] - 0s 2ms/step - loss: 0.0613 - accuracy: 0.9802\n",
      "Epoch 77/100\n",
      "157/157 [==============================] - 0s 2ms/step - loss: 0.0617 - accuracy: 0.9788\n",
      "Epoch 78/100\n",
      "157/157 [==============================] - 0s 2ms/step - loss: 0.0572 - accuracy: 0.9794\n",
      "Epoch 79/100\n",
      "157/157 [==============================] - 0s 3ms/step - loss: 0.0579 - accuracy: 0.9808\n",
      "Epoch 80/100\n",
      "157/157 [==============================] - 0s 2ms/step - loss: 0.0611 - accuracy: 0.9792\n",
      "Epoch 81/100\n",
      "157/157 [==============================] - 0s 3ms/step - loss: 0.0600 - accuracy: 0.9796\n",
      "Epoch 82/100\n",
      "157/157 [==============================] - 0s 3ms/step - loss: 0.0582 - accuracy: 0.9786\n",
      "Epoch 83/100\n",
      "157/157 [==============================] - 0s 3ms/step - loss: 0.0602 - accuracy: 0.9806\n",
      "Epoch 84/100\n",
      "157/157 [==============================] - 0s 3ms/step - loss: 0.0614 - accuracy: 0.9782\n",
      "Epoch 85/100\n",
      "157/157 [==============================] - 0s 3ms/step - loss: 0.0555 - accuracy: 0.9816\n",
      "Epoch 86/100\n",
      "157/157 [==============================] - 0s 3ms/step - loss: 0.0568 - accuracy: 0.9806\n",
      "Epoch 87/100\n",
      "157/157 [==============================] - 0s 3ms/step - loss: 0.0664 - accuracy: 0.9752\n",
      "Epoch 88/100\n",
      "157/157 [==============================] - 0s 3ms/step - loss: 0.0543 - accuracy: 0.9806\n",
      "Epoch 89/100\n",
      "157/157 [==============================] - 0s 3ms/step - loss: 0.0530 - accuracy: 0.9808\n",
      "Epoch 90/100\n",
      "157/157 [==============================] - 0s 3ms/step - loss: 0.0566 - accuracy: 0.9810\n",
      "Epoch 91/100\n",
      "157/157 [==============================] - 0s 3ms/step - loss: 0.0530 - accuracy: 0.9826\n",
      "Epoch 92/100\n",
      "157/157 [==============================] - 0s 3ms/step - loss: 0.0605 - accuracy: 0.9786\n",
      "Epoch 93/100\n",
      "157/157 [==============================] - 0s 3ms/step - loss: 0.0586 - accuracy: 0.9806\n",
      "Epoch 94/100\n",
      "157/157 [==============================] - 0s 2ms/step - loss: 0.0564 - accuracy: 0.9806\n",
      "Epoch 95/100\n",
      "157/157 [==============================] - 0s 2ms/step - loss: 0.0569 - accuracy: 0.9806\n",
      "Epoch 96/100\n",
      "157/157 [==============================] - 0s 2ms/step - loss: 0.0543 - accuracy: 0.9820\n",
      "Epoch 97/100\n",
      "157/157 [==============================] - 0s 2ms/step - loss: 0.0523 - accuracy: 0.9814\n",
      "Epoch 98/100\n",
      "157/157 [==============================] - 0s 2ms/step - loss: 0.0549 - accuracy: 0.9816\n",
      "Epoch 99/100\n",
      "157/157 [==============================] - 0s 2ms/step - loss: 0.0570 - accuracy: 0.9798\n",
      "Epoch 100/100\n",
      "157/157 [==============================] - 0s 2ms/step - loss: 0.0562 - accuracy: 0.9806\n"
     ]
    },
    {
     "data": {
      "text/plain": "<keras.callbacks.History at 0x7f061d5cc978>"
     },
     "execution_count": 12,
     "metadata": {},
     "output_type": "execute_result"
    }
   ],
   "source": [
    "modelNN = tf.keras.Sequential([\n",
    "    tf.keras.layers.Dense(128, activation='relu'),\n",
    "    tf.keras.layers.Dense(6)\n",
    "])\n",
    "modelNN.compile(optimizer='adam',\n",
    "              loss=tf.keras.losses.SparseCategoricalCrossentropy(from_logits=True),\n",
    "              metrics=['accuracy'])\n",
    "modelNN.fit(SignalsTrain, SignalLabelsTrain, epochs=100)\n"
   ],
   "metadata": {
    "collapsed": false,
    "pycharm": {
     "name": "#%%\n"
    }
   }
  },
  {
   "cell_type": "code",
   "execution_count": 13,
   "outputs": [
    {
     "name": "stdout",
     "output_type": "stream",
     "text": [
      "1\n",
      "2\n",
      "3\n",
      "4\n",
      "5\n"
     ]
    }
   ],
   "source": [
    "\n",
    "BoxSignal=Generate('Box',x,Amount=1000)\n",
    "SawSignal=Generate('Saw',x,Amount=1000)\n",
    "ExpSignal=Generate('Exp',x,Amount=1000)\n",
    "SinSignal=Generate('Sin',x,Amount=1000)\n",
    "GausSignal=Generate('Gaus',x,Amount=1000)\n",
    "a=[BoxSignal[1],SawSignal[1],ExpSignal[1],SinSignal[1],GausSignal[1]]\n",
    "b=[BoxSignal[2],SawSignal[2],ExpSignal[2],SinSignal[2],GausSignal[2]]\n",
    "c=[np.zeros(1000),np.zeros(1000),ExpSignal[3],SinSignal[3],np.zeros(1000)]\n",
    "Signals=[BoxSignal[0],SawSignal[0],ExpSignal[0],SinSignal[0],GausSignal[0]]\n",
    "SignalLabels=[\n",
    "    1*np.ones(1000),\n",
    "    2*np.ones(1000),\n",
    "    3*np.ones(1000),\n",
    "    4*np.ones(1000),\n",
    "    5*np.ones(1000)]\n",
    "SignalsTest=np.array(np.concatenate(Signals).flat)\n",
    "a=np.array(np.concatenate(a).flat)\n",
    "b=np.array(np.concatenate(b).flat)\n",
    "c=np.array(np.concatenate(c).flat)\n",
    "\n",
    "SignalsTest=SignalsTest.reshape((5000,100))\n",
    "SignalLabelsTest=np.array(np.concatenate(SignalLabels).flat)"
   ],
   "metadata": {
    "collapsed": false,
    "pycharm": {
     "name": "#%%\n"
    }
   }
  },
  {
   "cell_type": "code",
   "execution_count": 14,
   "outputs": [
    {
     "name": "stdout",
     "output_type": "stream",
     "text": [
      "157/157 - 1s - loss: 0.0605 - accuracy: 0.9784\n"
     ]
    }
   ],
   "source": [
    "test_loss, woNoiseAcc = modelNN.evaluate(SignalsTest,  SignalLabelsTest, verbose=2,use_multiprocessing=True,)\n",
    "#modelNN.evaluate()\n",
    "#modelNN.predict_batch(BoxSignal[0])\n",
    "probability_model=tf.keras.Sequential([modelNN,tf.keras.layers.Softmax()])\n",
    "predictions=probability_model.predict(SignalsTest)"
   ],
   "metadata": {
    "collapsed": false,
    "pycharm": {
     "name": "#%%\n"
    }
   }
  },
  {
   "cell_type": "code",
   "execution_count": 15,
   "outputs": [],
   "source": [
    "testResults=[]\n",
    "for i in range(len(predictions)):\n",
    "    a=np.max(predictions[i])\n",
    "    maxElement=np.where(predictions[i]==a)\n",
    "    testResults.append(maxElement[0][0])\n"
   ],
   "metadata": {
    "collapsed": false,
    "pycharm": {
     "name": "#%%\n"
    }
   }
  },
  {
   "cell_type": "code",
   "execution_count": 149,
   "outputs": [
    {
     "data": {
      "text/plain": "5000"
     },
     "execution_count": 149,
     "metadata": {},
     "output_type": "execute_result"
    }
   ],
   "source": [
    "len(testResults)"
   ],
   "metadata": {
    "collapsed": false,
    "pycharm": {
     "name": "#%%\n"
    }
   }
  },
  {
   "cell_type": "code",
   "execution_count": 19,
   "outputs": [],
   "source": [
    "Model2Summ=pd.DataFrame()\n",
    "Model2Summ['Actual Classifcation']=SignalLabelsTest\n",
    "Model2Summ['Predicted Classification']=testResults\n",
    "Model2Summ['a']=a\n",
    "Model2Summ['b']=b\n",
    "Model2Summ['c']=c\n"
   ],
   "metadata": {
    "collapsed": false,
    "pycharm": {
     "name": "#%%\n"
    }
   }
  },
  {
   "cell_type": "code",
   "execution_count": 20,
   "outputs": [],
   "source": [
    "Model2Summ.to_csv('Model2Results.csv')"
   ],
   "metadata": {
    "collapsed": false,
    "pycharm": {
     "name": "#%%\n"
    }
   }
  },
  {
   "cell_type": "code",
   "execution_count": 21,
   "outputs": [
    {
     "name": "stdout",
     "output_type": "stream",
     "text": [
      "INFO:tensorflow:Assets written to: Model2TrainedTF/assets\n"
     ]
    }
   ],
   "source": [
    "modelNN.save('Model2TrainedTF')"
   ],
   "metadata": {
    "collapsed": false,
    "pycharm": {
     "name": "#%%\n"
    }
   }
  },
  {
   "cell_type": "code",
   "execution_count": 22,
   "outputs": [
    {
     "name": "stdout",
     "output_type": "stream",
     "text": [
      " \u001B[0m\u001B[01;34marchive\u001B[0m/                         Model2.ipynb       '#Report.lyx#'\r\n",
      " ClassifyingSignals.ipynb         Model2Results.csv   Report.lyx\r\n",
      " ClassifyingSignalsModel2.ipynb   \u001B[01;34mModel2TrainedTF\u001B[0m/    Report.lyx~\r\n",
      " FourierSeries.ipynb              Model3.ipynb        requirements.txt\r\n",
      " Model1.ipynb                     Model3Results.csv   SignalGeneration.ipynb\r\n",
      " Model1Results.csv                \u001B[01;34mModel3TrainedTF\u001B[0m/    \u001B[01;34mvenv\u001B[0m/\r\n",
      " \u001B[01;34mModel1TrainedTF\u001B[0m/                 README.md\r\n"
     ]
    }
   ],
   "source": [
    "ls"
   ],
   "metadata": {
    "collapsed": false,
    "pycharm": {
     "name": "#%%\n"
    }
   }
  }
 ],
 "metadata": {
  "accelerator": "GPU",
  "colab": {
   "collapsed_sections": [],
   "name": "ClassifyingSignals.ipynb",
   "provenance": [],
   "toc_visible": true
  },
  "kernelspec": {
   "display_name": "Python 3",
   "language": "python",
   "name": "python3"
  },
  "language_info": {
   "codemirror_mode": {
    "name": "ipython",
    "version": 3
   },
   "file_extension": ".py",
   "mimetype": "text/x-python",
   "name": "python",
   "nbconvert_exporter": "python",
   "pygments_lexer": "ipython3",
   "version": "3.6.13"
  }
 },
 "nbformat": 4,
 "nbformat_minor": 5
}
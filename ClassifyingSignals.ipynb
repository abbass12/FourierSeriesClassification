{
 "cells": [
  {
   "cell_type": "markdown",
   "id": "FrJ2h72z15eK",
   "metadata": {
    "id": "FrJ2h72z15eK",
    "pycharm": {
     "name": "#%% md\n"
    }
   },
   "source": [
    "# Signal Classifier"
   ]
  },
  {
   "cell_type": "markdown",
   "id": "Np8XS8WX2Dqd",
   "metadata": {
    "id": "Np8XS8WX2Dqd",
    "pycharm": {
     "name": "#%% md\n"
    }
   },
   "source": [
    "## Library Imports"
   ]
  },
  {
   "cell_type": "code",
   "execution_count": 271,
   "id": "7dbb2831-db87-4870-a196-8d028fa60fc2",
   "metadata": {
    "executionInfo": {
     "elapsed": 8084,
     "status": "ok",
     "timestamp": 1652457976225,
     "user": {
      "displayName": "Abbass",
      "userId": "15291878327143677964"
     },
     "user_tz": 240
    },
    "id": "7dbb2831-db87-4870-a196-8d028fa60fc2",
    "pycharm": {
     "name": "#%%\n"
    }
   },
   "outputs": [],
   "source": [
    "import numpy as np\n",
    "import plotly.graph_objects as go\n",
    "import tensorflow as tf\n",
    "#np.seterr(divide='ignore', invalid='ignore')\n",
    "import warnings\n",
    "warnings.filterwarnings(\"ignore\", category=FutureWarning)\n",
    "def plot(fig,x,y,name):\n",
    "    fig.add_trace(go.Scatter(x=x,y=y,mode='lines',name=name))\n"
   ]
  },
  {
   "cell_type": "markdown",
   "id": "Cjpiet1L2JBF",
   "metadata": {
    "id": "Cjpiet1L2JBF",
    "pycharm": {
     "name": "#%% md\n"
    }
   },
   "source": [
    "## Defintion of Different Signal Functions"
   ]
  },
  {
   "cell_type": "code",
   "execution_count": 274,
   "outputs": [],
   "source": [
    "def dft(N,M=40):\n",
    "    #w=np.e**((2*np.pi*-1j)/N)\n",
    "    power=np.zeros((M,N),dtype=complex)\n",
    "    xj = np.linspace(-np.pi, np.pi, N)\n",
    "    for i in range(M):\n",
    "        for j in range(N):\n",
    "            #power[i][j]=((-N/2)+i)*j\n",
    "            power[i][j] = -1j*(i-M/2)*xj[j]\n",
    "    #DFT=(w**power)/N\n",
    "    DFT = np.e**power\n",
    "    return DFT\n",
    "def box(x,a=2,b=5,normalized=True,noise=False,noiseParameter=0.1,fourier=False,N=40):\n",
    "    if fourier:\n",
    "        k=np.linspace(int((-N/2)),int((N/2)),N+1)\n",
    "        fkhat=np.zeros(len(k))\n",
    "        fkhat[k==0]=(2*a*b)\n",
    "        fkhat[k!=0]=((2*b*np.sin(a*k[k!=0]))/k[k!=0])\n",
    "        y=fkhat/(2*np.pi)\n",
    "        if normalized:\n",
    "            return y/np.max(abs(box(x,a,b,normalized=False)))\n",
    "        return y\n",
    "    y=np.zeros(len(x))\n",
    "    y[np.abs(x)<a]=b\n",
    "    if noise:\n",
    "        y=y+np.random.normal(0,noiseParameter,len(x))\n",
    "        if normalized:\n",
    "            return y/np.max(abs(box(x,a,b,normalized=False)))\n",
    "        return y\n",
    "    if normalized:\n",
    "        return y/np.max(abs(y))\n",
    "    return y\n",
    "def saw(x,a=2,b=5,normalized=True,noise=False,noiseParameter=0.1,fourier=False,N=40):\n",
    "    if fourier:\n",
    "        k=np.linspace(int((-N/2)),int((N/2)),N+1)\n",
    "        fkhat=np.zeros(len(k)).astype(complex)\n",
    "        fkhat[k==0]=0\n",
    "        fkhat[k!=0]=(2*1j*b*(np.sin(a*k[k!=0])-a*k[k!=0]*np.cos(a*k[k!=0])))/(k[k!=0]**2)\n",
    "        y=fkhat/(2*np.pi)\n",
    "        if normalized:\n",
    "            return y/np.max(abs(saw(x,a,b,normalized=False)))\n",
    "        return y\n",
    "    y=np.zeros(len(x))\n",
    "    y[np.abs(x)<a]=-b*x[np.abs(x)<a]\n",
    "    if noise:\n",
    "        y=y+np.random.normal(0,noiseParameter,len(x))\n",
    "        if normalized:\n",
    "            return y/np.max(abs(saw(x,a,b,normalized=False)))\n",
    "        return y\n",
    "    if normalized:\n",
    "        return y/np.max(abs(y))\n",
    "    return y\n",
    "def exp(x,a=2,b=2,c=-1,normalized=True,noise=False,noiseParameter=0.1,fourier=False,N=40):\n",
    "    if fourier:\n",
    "        k=np.linspace(int((-N/2)),int((N/2)),N+1).astype(complex)\n",
    "        fkhat=np.zeros(len(k)).astype(complex)\n",
    "        fkhat[k==0]=(2*((a*b*c)+np.sinh(a*b)))/b\n",
    "        fkhat[k!=0]=((2*c*np.sin(a*k[k!=0]))/k[k!=0])+((2*np.sinh(a*(b+(1j*k[k!=0]))))/(b+(1j*k[k!=0])))\n",
    "        y=fkhat/(2*np.pi)\n",
    "        if normalized:\n",
    "            return y/np.max(abs(exp(x,a,b,c,normalized=False)))\n",
    "        return y\n",
    "    y=np.zeros(len(x))\n",
    "    y[np.abs(x)<a]=c+np.e**(-b*x[[np.abs(x)<a]])\n",
    "    if noise:\n",
    "        y=y+np.random.normal(0,noiseParameter,len(x))\n",
    "        if normalized:\n",
    "           return y/np.max(abs(exp(x,a,b,c,normalized=False)))\n",
    "        return y\n",
    "    if normalized:\n",
    "        return y/np.max(abs(y))\n",
    "    return y\n",
    "def sinu(x,a=2,b=2,c=-1,normalized=True,noise=False,noiseParameter=0.1,fourier=False,N=40):\n",
    "    if fourier:\n",
    "        k=np.linspace(int((-N/2)),int((N/2)),N+1).astype(complex)\n",
    "        fkhat=np.zeros(len(k)).astype(complex)\n",
    "        fkhat[k==b]=((1j*c*np.sin(2*a*b))/(2*b))-(1j*a*c)\n",
    "        fkhat[k==-b]=(1/2)*1j*c*((2*a)-((np.sin(2*a*b))/b))\n",
    "        fkhat[k!=b]=(2*1j*c*((b*np.cos(a*b)*np.sin(a*k[k!=b]))-(k[k!=b]*np.sin(a*b)*np.cos(a*k[k!=b]))))/((b**2)-(k[k!=b]**2))\n",
    "        y=fkhat/(2*np.pi)\n",
    "        if normalized:\n",
    "            return y/np.max(abs(sinu(x,a,b,c,normalized=False)))\n",
    "        return y\n",
    "    y=np.zeros(len(x))\n",
    "    y[np.abs(x)<a]=c*np.sin(b*x[np.abs(x)<a])\n",
    "    if noise:\n",
    "        y=y+np.random.normal(0,noiseParameter,len(x))\n",
    "        if normalized:\n",
    "            return y/np.max(abs(sinu(x,a,b,c,normalized=False)))\n",
    "        return y\n",
    "    if normalized:\n",
    "        return y/np.max(abs(y))\n",
    "    return y\n",
    "def gaus(x,a=2,b=2,normalized=True,noise=False,noiseParameter=0.1,fourier=False,N=40):\n",
    "    if fourier:\n",
    "        fkhat=((np.dot(dft(N,80),gaus(x,a,b)))/N)\n",
    "        if normalized:\n",
    "            return fkhat/np.max(abs(gaus(x,a,b,normalized=False)))\n",
    "        return fkhat\n",
    "    y=np.zeros(len(x))\n",
    "    y[np.abs(x)<a]=np.e**(-a*(x[np.abs(x)<a]**(2*b)))\n",
    "    y=np.nan_to_num(y)\n",
    "    if noise:\n",
    "        y=y+np.random.normal(0,noiseParameter,len(x))\n",
    "        if normalized:\n",
    "            return y/np.max(abs(gaus(x,a,b,normalized=False)))\n",
    "        return y\n",
    "    if normalized:\n",
    "        return y/np.max(abs(y))\n",
    "    return y\n",
    "def FourierSeries(cn,X,N):\n",
    "    fx=[]\n",
    "    '''\n",
    "    Cn=np.zeros(len(cn))\n",
    "    Cn[0]=cn[int(N/2)]\n",
    "    Cn[1:int(N/2)-1]=cn[1:int(N/2)-1]\n",
    "    Cn[int(N/2)+1:N]=cn[int(N/2)+1:N]\n",
    "    fx=np.fft.ifft(Cn)\n",
    "    '''\n",
    "    \n",
    "    for x in X:\n",
    "        result=0\n",
    "        for i in range(int((-N/2)),int((N/2))):\n",
    "            result=result+cn[int(i+(N/2))]*(np.e**(1j*i*x)) #Calculate Fourier Series approximation using formula\n",
    "        fx.append(result.real)\n",
    "    return fx"
   ],
   "metadata": {
    "collapsed": false,
    "pycharm": {
     "name": "#%%\n"
    }
   }
  },
  {
   "cell_type": "code",
   "execution_count": 273,
   "outputs": [],
   "source": [
    "Signals={'Box':1,'Saw':2,'Exp':3,'Sin':4,'Gaus':5}\n",
    "def Generate(signal,x,Amount,normalized=True,fourier=False,N=40,Noise=False,noiseParameter=0.1):\n",
    "    signalOutput=[]\n",
    "    length=Amount+len(x)\n",
    "    print(Signals[signal])\n",
    "    if(Signals[signal]==1):\n",
    "        #a=np.linspace(np.pi/4,np.pi/2,len(x))\n",
    "        a=np.linspace(.10,2.90,length)\n",
    "        b=np.append(np.linspace(-100,-0.01,int(length/2)),np.linspace(0.01,100,int(length/2)))\n",
    "        a=np.random.permutation(a)\n",
    "        b=np.random.permutation(b)\n",
    "        if fourier:\n",
    "            print(a[0])\n",
    "            for i in range(Amount):\n",
    "                cn=box(x,a[i],b[i],normalized=normalized,fourier=True,N=N)\n",
    "                normalization=1#np.max(abs(F))\n",
    "                #BoxSignal.append(F/normalization)\n",
    "                #BoxSignalFourier.append(fx)\n",
    "                signalOutput.append(FourierSeries(cn,x,N))\n",
    "            return signalOutput\n",
    "        elif Noise:\n",
    "            for i in range(Amount):\n",
    "                F=box(x,a[i],b[i],noise=True,normalized=normalized,noiseParameter=noiseParameter)\n",
    "                signalOutput.append(F)\n",
    "            return signalOutput\n",
    "        else:\n",
    "            for i in range(Amount):\n",
    "                F=box(x,a[i],b[i],normalized=normalized)\n",
    "                #normalization=1#np.max(abs(F))\n",
    "                #BoxSignal.append(F/normalization)\n",
    "                #BoxSignalFourier.append(fx)\n",
    "                signalOutput.append(F)\n",
    "            return signalOutput\n",
    "    elif(Signals[signal]==2):\n",
    "        a=np.linspace(np.pi/4,np.pi/2,length)\n",
    "        b=np.append(np.linspace(-100,-0.01,int(length/2)),np.linspace(0.01,100,int(length/2)))\n",
    "        a=np.random.permutation(a)\n",
    "        b=np.random.permutation(b)\n",
    "        if fourier:\n",
    "            print(a[0])\n",
    "            for i in range(Amount):\n",
    "                cn=saw(x,a[i],b[i],normalized=normalized\n",
    "                ,fourier=True,N=N)\n",
    "                signalOutput.append(FourierSeries(cn,x,N))\n",
    "            return signalOutput\n",
    "        elif Noise:\n",
    "            for i in range(Amount):\n",
    "                F=saw(x,a[i],b[i],noise=True,normalized=normalized,noiseParameter=noiseParameter)\n",
    "                signalOutput.append(F)\n",
    "            return signalOutput\n",
    "        else:\n",
    "            for i in range(Amount):\n",
    "                F=saw(x,a[i],b[i],normalized=normalized)\n",
    "                signalOutput.append(F)\n",
    "            return signalOutput\n",
    "    elif(Signals[signal]==3):\n",
    "        a=np.linspace(np.pi/4,np.pi/2,length)\n",
    "        b=np.append(np.linspace(-1,-0.1,int(length/2)),np.linspace(0.1,1,int(length/2)))\n",
    "        c=np.append(np.linspace(-3,-1.01,int(length/2)),np.linspace(-1.01,1,int(length/2)))\n",
    "        a=np.random.permutation(a)\n",
    "        b=np.random.permutation(b)\n",
    "        c=np.random.permutation(c)\n",
    "        if fourier:\n",
    "            print(a[0])\n",
    "            for i in range(Amount):\n",
    "                cn=exp(x,a[i],b[i],c[i],normalized=normalized\n",
    "                ,fourier=True,N=N)\n",
    "                signalOutput.append(FourierSeries(cn,x,N))\n",
    "            return signalOutput\n",
    "        elif Noise:\n",
    "            for i in range(Amount):\n",
    "                F=exp(x,a[i],b[i],c[i],noise=True,normalized=normalized,noiseParameter=noiseParameter)\n",
    "                signalOutput.append(F)\n",
    "            return signalOutput\n",
    "        else:\n",
    "            for i in range(Amount):\n",
    "                F=exp(x,a[i],b[i],c[i],normalized=normalized)\n",
    "                signalOutput.append(F)\n",
    "            return signalOutput\n",
    "    elif(Signals[signal]==4):\n",
    "        a=np.linspace(np.pi/4,np.pi/2,length)\n",
    "        b=np.append(np.linspace(-2*np.pi,-0.3,int(length/2)),np.linspace(0.3,2*np.pi,int(length/2)))\n",
    "        c=np.append(np.linspace(-100,-0.1,int(length/2)),np.linspace(0.1,100,int(length/2)))\n",
    "        a=np.random.permutation(a)\n",
    "        b=np.random.permutation(b)\n",
    "        c=np.random.permutation(c)\n",
    "        if fourier:\n",
    "            print(a[0])\n",
    "            for i in range(Amount):\n",
    "                cn=sinu(x,a[i],b[i],c[i],normalized=normalized\n",
    "                ,fourier=True,N=N)\n",
    "                signalOutput.append(FourierSeries(cn,x,N))\n",
    "            return signalOutput\n",
    "        elif Noise:\n",
    "            for i in range(Amount):\n",
    "                F=sinu(x,a[i],b[i],c[i],noise=True,normalized=normalized,noiseParameter=noiseParameter)\n",
    "                signalOutput.append(F)\n",
    "            return signalOutput\n",
    "        else:\n",
    "            for i in range(Amount):\n",
    "                F=sinu(x,a[i],b[i],c[i],normalized=normalized)\n",
    "                signalOutput.append(F)\n",
    "            return signalOutput\n",
    "    elif(Signals[signal]==5):\n",
    "        a=np.linspace(np.pi/4,np.pi/2,length)\n",
    "        b=np.append(np.linspace(-10,-1,int(length/2)),np.linspace(1,10,int(length/2)))\n",
    "        a=np.random.permutation(a)\n",
    "        b=np.random.permutation(b)\n",
    "\n",
    "        if fourier:\n",
    "            print(a[0])\n",
    "            for i in range(Amount):\n",
    "                cn=gaus(x,a[i],int(b[i]),normalized=normalized\n",
    "                ,fourier=True,N=N)\n",
    "                signalOutput.append(FourierSeries(cn,x,N))\n",
    "            return signalOutput\n",
    "        elif Noise:\n",
    "            for i in range(Amount):\n",
    "                F=gaus(x,a[i],int(b[i]),noise=True,normalized=normalized,noiseParameter=noiseParameter)\n",
    "                signalOutput.append(F)\n",
    "            return signalOutput\n",
    "        else:\n",
    "            for i in range(Amount):\n",
    "                F=gaus(x,a[i],int(b[i]),normalized=normalized)\n",
    "                signalOutput.append(F)\n",
    "            return signalOutput"
   ],
   "metadata": {
    "collapsed": false,
    "pycharm": {
     "name": "#%%\n"
    }
   }
  },
  {
   "cell_type": "code",
   "execution_count": 270,
   "outputs": [
    {
     "name": "stdout",
     "output_type": "stream",
     "text": [
      "1\n",
      "5\n",
      "1.3037609512397643\n"
     ]
    },
    {
     "ename": "ValueError",
     "evalue": "shapes (100,40) and (100,) not aligned: 40 (dim 1) != 100 (dim 0)",
     "output_type": "error",
     "traceback": [
      "\u001B[0;31m---------------------------------------------------------------------------\u001B[0m",
      "\u001B[0;31mValueError\u001B[0m                                Traceback (most recent call last)",
      "\u001B[0;32m<ipython-input-270-756b02141fba>\u001B[0m in \u001B[0;36m<module>\u001B[0;34m\u001B[0m\n\u001B[1;32m      7\u001B[0m \u001B[0;31m#plot(fig,x,Generate('Exp',x,Amount=1,normalized=False)[0],'Exp')\u001B[0m\u001B[0;34m\u001B[0m\u001B[0;34m\u001B[0m\u001B[0;34m\u001B[0m\u001B[0m\n\u001B[1;32m      8\u001B[0m \u001B[0;31m#plot(fig,x,Generate('Sin',x,Amount=1,normalized=True,Noise=True,noiseParameter=0.5)[0],'Sin')\u001B[0m\u001B[0;34m\u001B[0m\u001B[0;34m\u001B[0m\u001B[0;34m\u001B[0m\u001B[0m\n\u001B[0;32m----> 9\u001B[0;31m \u001B[0mplot\u001B[0m\u001B[0;34m(\u001B[0m\u001B[0mfig\u001B[0m\u001B[0;34m,\u001B[0m\u001B[0mx\u001B[0m\u001B[0;34m,\u001B[0m\u001B[0mGenerate\u001B[0m\u001B[0;34m(\u001B[0m\u001B[0;34m'Gaus'\u001B[0m\u001B[0;34m,\u001B[0m\u001B[0mx\u001B[0m\u001B[0;34m,\u001B[0m\u001B[0mAmount\u001B[0m\u001B[0;34m=\u001B[0m\u001B[0;36m1\u001B[0m\u001B[0;34m,\u001B[0m\u001B[0mfourier\u001B[0m\u001B[0;34m=\u001B[0m\u001B[0;32mTrue\u001B[0m\u001B[0;34m)\u001B[0m\u001B[0;34m[\u001B[0m\u001B[0;36m0\u001B[0m\u001B[0;34m]\u001B[0m\u001B[0;34m,\u001B[0m\u001B[0;34m'Gaus'\u001B[0m\u001B[0;34m)\u001B[0m\u001B[0;34m\u001B[0m\u001B[0;34m\u001B[0m\u001B[0m\n\u001B[0m\u001B[1;32m     10\u001B[0m \u001B[0;34m\u001B[0m\u001B[0m\n\u001B[1;32m     11\u001B[0m \u001B[0mfig\u001B[0m\u001B[0;34m\u001B[0m\u001B[0;34m\u001B[0m\u001B[0m\n",
      "\u001B[0;32m<ipython-input-261-3db3d6d8cea0>\u001B[0m in \u001B[0;36mGenerate\u001B[0;34m(signal, x, Amount, normalized, fourier, N, Noise, noiseParameter)\u001B[0m\n\u001B[1;32m    112\u001B[0m             \u001B[0;32mfor\u001B[0m \u001B[0mi\u001B[0m \u001B[0;32min\u001B[0m \u001B[0mrange\u001B[0m\u001B[0;34m(\u001B[0m\u001B[0mAmount\u001B[0m\u001B[0;34m)\u001B[0m\u001B[0;34m:\u001B[0m\u001B[0;34m\u001B[0m\u001B[0;34m\u001B[0m\u001B[0m\n\u001B[1;32m    113\u001B[0m                 cn=gaus(x,a[i],int(b[i]),normalized=normalized\n\u001B[0;32m--> 114\u001B[0;31m                 ,fourier=True,N=N)\n\u001B[0m\u001B[1;32m    115\u001B[0m                 \u001B[0msignalOutput\u001B[0m\u001B[0;34m.\u001B[0m\u001B[0mappend\u001B[0m\u001B[0;34m(\u001B[0m\u001B[0mFourierSeries\u001B[0m\u001B[0;34m(\u001B[0m\u001B[0mcn\u001B[0m\u001B[0;34m,\u001B[0m\u001B[0mx\u001B[0m\u001B[0;34m,\u001B[0m\u001B[0mN\u001B[0m\u001B[0;34m)\u001B[0m\u001B[0;34m)\u001B[0m\u001B[0;34m\u001B[0m\u001B[0;34m\u001B[0m\u001B[0m\n\u001B[1;32m    116\u001B[0m             \u001B[0;32mreturn\u001B[0m \u001B[0msignalOutput\u001B[0m\u001B[0;34m\u001B[0m\u001B[0;34m\u001B[0m\u001B[0m\n",
      "\u001B[0;32m<ipython-input-269-4694aa7083a8>\u001B[0m in \u001B[0;36mgaus\u001B[0;34m(x, a, b, normalized, noise, noiseParameter, fourier, N)\u001B[0m\n\u001B[1;32m     93\u001B[0m \u001B[0;32mdef\u001B[0m \u001B[0mgaus\u001B[0m\u001B[0;34m(\u001B[0m\u001B[0mx\u001B[0m\u001B[0;34m,\u001B[0m\u001B[0ma\u001B[0m\u001B[0;34m=\u001B[0m\u001B[0;36m2\u001B[0m\u001B[0;34m,\u001B[0m\u001B[0mb\u001B[0m\u001B[0;34m=\u001B[0m\u001B[0;36m2\u001B[0m\u001B[0;34m,\u001B[0m\u001B[0mnormalized\u001B[0m\u001B[0;34m=\u001B[0m\u001B[0;32mTrue\u001B[0m\u001B[0;34m,\u001B[0m\u001B[0mnoise\u001B[0m\u001B[0;34m=\u001B[0m\u001B[0;32mFalse\u001B[0m\u001B[0;34m,\u001B[0m\u001B[0mnoiseParameter\u001B[0m\u001B[0;34m=\u001B[0m\u001B[0;36m0.1\u001B[0m\u001B[0;34m,\u001B[0m\u001B[0mfourier\u001B[0m\u001B[0;34m=\u001B[0m\u001B[0;32mFalse\u001B[0m\u001B[0;34m,\u001B[0m\u001B[0mN\u001B[0m\u001B[0;34m=\u001B[0m\u001B[0;36m40\u001B[0m\u001B[0;34m)\u001B[0m\u001B[0;34m:\u001B[0m\u001B[0;34m\u001B[0m\u001B[0;34m\u001B[0m\u001B[0m\n\u001B[1;32m     94\u001B[0m     \u001B[0;32mif\u001B[0m \u001B[0mfourier\u001B[0m\u001B[0;34m:\u001B[0m\u001B[0;34m\u001B[0m\u001B[0;34m\u001B[0m\u001B[0m\n\u001B[0;32m---> 95\u001B[0;31m         \u001B[0mfkhat\u001B[0m\u001B[0;34m=\u001B[0m\u001B[0;34m(\u001B[0m\u001B[0;34m(\u001B[0m\u001B[0mnp\u001B[0m\u001B[0;34m.\u001B[0m\u001B[0mdot\u001B[0m\u001B[0;34m(\u001B[0m\u001B[0mdft\u001B[0m\u001B[0;34m(\u001B[0m\u001B[0mN\u001B[0m\u001B[0;34m,\u001B[0m\u001B[0mlen\u001B[0m\u001B[0;34m(\u001B[0m\u001B[0mx\u001B[0m\u001B[0;34m)\u001B[0m\u001B[0;34m)\u001B[0m\u001B[0;34m,\u001B[0m\u001B[0mgaus\u001B[0m\u001B[0;34m(\u001B[0m\u001B[0mx\u001B[0m\u001B[0;34m,\u001B[0m\u001B[0ma\u001B[0m\u001B[0;34m,\u001B[0m\u001B[0mb\u001B[0m\u001B[0;34m)\u001B[0m\u001B[0;34m)\u001B[0m\u001B[0;34m)\u001B[0m\u001B[0;34m/\u001B[0m\u001B[0mN\u001B[0m\u001B[0;34m)\u001B[0m\u001B[0;34m\u001B[0m\u001B[0;34m\u001B[0m\u001B[0m\n\u001B[0m\u001B[1;32m     96\u001B[0m         \u001B[0;32mif\u001B[0m \u001B[0mnormalized\u001B[0m\u001B[0;34m:\u001B[0m\u001B[0;34m\u001B[0m\u001B[0;34m\u001B[0m\u001B[0m\n\u001B[1;32m     97\u001B[0m             \u001B[0;32mreturn\u001B[0m \u001B[0mfkhat\u001B[0m\u001B[0;34m/\u001B[0m\u001B[0mnp\u001B[0m\u001B[0;34m.\u001B[0m\u001B[0mmax\u001B[0m\u001B[0;34m(\u001B[0m\u001B[0mabs\u001B[0m\u001B[0;34m(\u001B[0m\u001B[0mgaus\u001B[0m\u001B[0;34m(\u001B[0m\u001B[0mx\u001B[0m\u001B[0;34m,\u001B[0m\u001B[0ma\u001B[0m\u001B[0;34m,\u001B[0m\u001B[0mb\u001B[0m\u001B[0;34m,\u001B[0m\u001B[0mnormalized\u001B[0m\u001B[0;34m=\u001B[0m\u001B[0;32mFalse\u001B[0m\u001B[0;34m)\u001B[0m\u001B[0;34m)\u001B[0m\u001B[0;34m)\u001B[0m\u001B[0;34m\u001B[0m\u001B[0;34m\u001B[0m\u001B[0m\n",
      "\u001B[0;32m<__array_function__ internals>\u001B[0m in \u001B[0;36mdot\u001B[0;34m(*args, **kwargs)\u001B[0m\n",
      "\u001B[0;31mValueError\u001B[0m: shapes (100,40) and (100,) not aligned: 40 (dim 1) != 100 (dim 0)"
     ]
    }
   ],
   "source": [
    "fig=go.Figure()\n",
    "fig.update_xaxes(range=[-np.pi,np.pi])\n",
    "x=np.linspace(-np.pi,np.pi,100)\n",
    "Generate('Box',x,Amount=2)\n",
    "#plot(fig,x,Generate('Box',x,Amount=1,normalized=False,fourier=True,N=100)[0],'Box')\n",
    "#plot(fig,x,Generate('Saw',x,Amount=1,normalized=True,Noise=True,noiseParameter=1.4)[0],'Saw')\n",
    "#plot(fig,x,Generate('Exp',x,Amount=1,normalized=False)[0],'Exp')\n",
    "#plot(fig,x,Generate('Sin',x,Amount=1,normalized=True,Noise=True,noiseParameter=0.5)[0],'Sin')\n",
    "plot(fig,x,Generate('Gaus',x,Amount=1,fourier=True)[0],'Gaus')\n",
    "\n",
    "fig"
   ],
   "metadata": {
    "collapsed": false,
    "pycharm": {
     "name": "#%%\n"
    }
   }
  },
  {
   "cell_type": "code",
   "execution_count": null,
   "id": "4c5c3609",
   "metadata": {
    "pycharm": {
     "name": "#%%\n"
    }
   },
   "outputs": [],
   "source": [
    "def BoxFourierAnalytical(a,b,N):\n",
    "    k=np.linspace(int((-N/2)),int((N/2)),N+1)\n",
    "    fkhat=np.zeros(len(k))\n",
    "    fkhat[k==0]=(2*a*b)\n",
    "    fkhat[k!=0]=((2*b*np.sin(a*k[k!=0]))/k[k!=0])\n",
    "    return fkhat/(2*np.pi)\n",
    "def SawFourierAnalytical(a,b,N):\n",
    "    k=np.linspace(int((-N/2)),int((N/2)),N+1)\n",
    "    fkhat=np.zeros(len(k)).astype(complex)\n",
    "    fkhat[k==0]=0\n",
    "    fkhat[k!=0]=(2*1j*b*(np.sin(a*k[k!=0])-a*k[k!=0]*np.cos(a*k[k!=0])))/(k[k!=0]**2)\n",
    "    return fkhat/(2*np.pi)\n",
    "def ExpFourierAnalytical(a,b,c,N):\n",
    "    k=np.linspace(int((-N/2)),int((N/2)),N+1).astype(complex)\n",
    "    fkhat=np.zeros(len(k)).astype(complex)\n",
    "    fkhat[k==0]=(2*((a*b*c)+np.sinh(a*b)))/b\n",
    "    fkhat[k!=0]=((2*c*np.sin(a*k[k!=0]))/k[k!=0])+((2*np.sinh(a*(b+(1j*k[k!=0]))))/(b+(1j*k[k!=0])))\n",
    "    return fkhat/(2*np.pi)\n",
    "def SinuFourierAnalytical(a,b,c,N):\n",
    "    k=np.linspace(int((-N/2)),int((N/2)),N+1).astype(complex)\n",
    "    fkhat=np.zeros(len(k)).astype(complex)\n",
    "    fkhat[k==b]=((1j*c*np.sin(2*a*b))/(2*b))-(1j*a*c)\n",
    "    fkhat[k==-b]=(1/2)*1j*c*((2*a)-((np.sin(2*a*b))/b))\n",
    "    fkhat[k!=b]=(2*1j*c*((b*np.cos(a*b)*np.sin(a*k[k!=b]))-(k[k!=b]*np.sin(a*b)*np.cos(a*k[k!=b]))))/((b**2)-(k[k!=b]**2))\n",
    "    return fkhat/(2*np.pi)\n",
    "def FourierSeries(cn,X,N):\n",
    "    fx=[]\n",
    "    '''\n",
    "    Cn=np.zeros(len(cn))\n",
    "    Cn[0]=cn[int(N/2)]\n",
    "    Cn[1:int(N/2)-1]=cn[1:int(N/2)-1]\n",
    "    Cn[int(N/2)+1:N]=cn[int(N/2)+1:N]\n",
    "    fx=np.fft.ifft(Cn)\n",
    "    '''\n",
    "\n",
    "    for x in X:\n",
    "        result=0\n",
    "        for i in range(int((-N/2)),int((N/2))):\n",
    "            result=result+cn[int(i+(N/2))]*(np.e**(1j*i*x)) #Calculate Fourier Series approximation using formula\n",
    "        fx.append(result.real)\n",
    "    return fx\n",
    "\n",
    "x=np.linspace(-np.pi,np.pi,100)"
   ]
  },
  {
   "cell_type": "code",
   "execution_count": null,
   "id": "a8f05fdf",
   "metadata": {
    "pycharm": {
     "name": "#%%\n"
    }
   },
   "outputs": [],
   "source": [
    "N=100"
   ]
  },
  {
   "cell_type": "markdown",
   "id": "iCZSEmcmsbN7",
   "metadata": {
    "id": "iCZSEmcmsbN7",
    "pycharm": {
     "name": "#%% md\n"
    }
   },
   "source": [
    "## Generating 10000 Functions of each signal for Training Model as well as their fourier series representation"
   ]
  },
  {
   "cell_type": "markdown",
   "id": "IKqQ8huOsv4J",
   "metadata": {
    "id": "IKqQ8huOsv4J",
    "pycharm": {
     "name": "#%% md\n"
    }
   },
   "source": [
    "### Box Function"
   ]
  },
  {
   "cell_type": "code",
   "execution_count": null,
   "id": "FCQKqdXNsoaV",
   "metadata": {
    "executionInfo": {
     "elapsed": 392,
     "status": "ok",
     "timestamp": 1652457988085,
     "user": {
      "displayName": "Abbass",
      "userId": "15291878327143677964"
     },
     "user_tz": 240
    },
    "id": "FCQKqdXNsoaV",
    "pycharm": {
     "name": "#%%\n"
    }
   },
   "outputs": [],
   "source": []
  },
  {
   "cell_type": "markdown",
   "id": "6l6Zk5adul59",
   "metadata": {
    "id": "6l6Zk5adul59",
    "pycharm": {
     "name": "#%% md\n"
    }
   },
   "source": [
    "### Saw Function"
   ]
  },
  {
   "cell_type": "code",
   "execution_count": null,
   "id": "UxZCehDXql6u",
   "metadata": {
    "executionInfo": {
     "elapsed": 366,
     "status": "ok",
     "timestamp": 1652457988445,
     "user": {
      "displayName": "Abbass",
      "userId": "15291878327143677964"
     },
     "user_tz": 240
    },
    "id": "UxZCehDXql6u",
    "pycharm": {
     "name": "#%%\n"
    }
   },
   "outputs": [],
   "source": [
    "a=np.linspace(np.pi/4,np.pi/2,10000)\n",
    "b=np.append(np.linspace(-1,-0.01,5000),np.linspace(0.01,1,5000))\n",
    "a=np.random.permutation(a)\n",
    "b=np.random.permutation(b)\n",
    "SawSignal=[]\n",
    "SawSignalFourier=[]\n",
    "#normalization=np.max(abs(saw(x,max(a),max(b))))\n",
    "for i in range(10000):\n",
    "    F=saw(x,a[i],b[i])\n",
    "    normalization=np.max(abs(F))\n",
    "    SawSignal.append(F/normalization)\n",
    "    cn=SawFourierAnalytical(a[i],b[i],N)\n",
    "    fx=FourierSeries(cn,x,N)\n",
    "    SawSignalFourier.append(fx)"
   ]
  },
  {
   "cell_type": "markdown",
   "id": "dCcS0N7Avafx",
   "metadata": {
    "id": "dCcS0N7Avafx",
    "pycharm": {
     "name": "#%% md\n"
    }
   },
   "source": [
    "### Exponential"
   ]
  },
  {
   "cell_type": "code",
   "execution_count": null,
   "id": "VKEvS4Z7rD4d",
   "metadata": {
    "executionInfo": {
     "elapsed": 503,
     "status": "ok",
     "timestamp": 1652457988943,
     "user": {
      "displayName": "Abbass",
      "userId": "15291878327143677964"
     },
     "user_tz": 240
    },
    "id": "VKEvS4Z7rD4d",
    "pycharm": {
     "name": "#%%\n"
    }
   },
   "outputs": [],
   "source": [
    "a=np.linspace(np.pi/4,np.pi/2,10000)\n",
    "b=np.append(np.linspace(-1,-0.1,5000),np.linspace(0.1,1,5000))\n",
    "c=np.append(np.linspace(-3,-1.01,5000),np.linspace(-1.01,1,5000))\n",
    "a=np.random.permutation(a)\n",
    "b=np.random.permutation(b)\n",
    "c=np.random.permutation(c)\n",
    "ExpSignal=[]\n",
    "ExpSignalFourier=[]\n",
    "\n",
    "for i in range(10000):\n",
    "    F=exp(x,a[i],b[i],c[i])\n",
    "    normalization=np.max(abs(F))\n",
    "    ExpSignal.append(F/normalization)\n",
    "    cn=ExpFourierAnalytical(a[i],b[i],c[i],N)\n",
    "    fx=FourierSeries(cn,x,N)\n",
    "    ExpSignalFourier.append(fx)"
   ]
  },
  {
   "cell_type": "markdown",
   "id": "nyIFSvtbv7Tb",
   "metadata": {
    "id": "nyIFSvtbv7Tb",
    "pycharm": {
     "name": "#%% md\n"
    }
   },
   "source": [
    "### Sinusoid"
   ]
  },
  {
   "cell_type": "code",
   "execution_count": null,
   "id": "NThgwVctv-LI",
   "metadata": {
    "executionInfo": {
     "elapsed": 732,
     "status": "ok",
     "timestamp": 1652457989668,
     "user": {
      "displayName": "Abbass",
      "userId": "15291878327143677964"
     },
     "user_tz": 240
    },
    "id": "NThgwVctv-LI",
    "pycharm": {
     "name": "#%%\n"
    }
   },
   "outputs": [],
   "source": [
    "a=np.linspace(np.pi/4,np.pi/2,10000)\n",
    "b=np.append(np.linspace(-1,-0.1,5000),np.linspace(0.1,2*np.pi,5000))\n",
    "c=np.append(np.linspace(-1,-0.1,5000),np.linspace(0.1,1,5000))\n",
    "a=np.random.permutation(a)\n",
    "b=np.random.permutation(b)\n",
    "c=np.random.permutation(c)\n",
    "SinSignal=[]\n",
    "SinSignalFourier=[]\n",
    "for i in range(10000):\n",
    "    F=sinu(x,a[i],b[i],c[i])\n",
    "    normalization=np.max(abs(F))\n",
    "    SinSignal.append(sinu(x,a[i],b[i],c[i])/normalization)\n",
    "    cn=SinuFourierAnalytical(a[i],b[i],b[i],N)\n",
    "    fx=FourierSeries(cn,x,N)\n",
    "    SinSignalFourier.append(fx)"
   ]
  },
  {
   "cell_type": "markdown",
   "id": "brwjQWEEweUB",
   "metadata": {
    "id": "brwjQWEEweUB",
    "pycharm": {
     "name": "#%% md\n"
    }
   },
   "source": [
    "### Gaussian"
   ]
  },
  {
   "cell_type": "code",
   "execution_count": null,
   "id": "WlNUVGzQwdEy",
   "metadata": {
    "executionInfo": {
     "elapsed": 1802,
     "status": "ok",
     "timestamp": 1652457991465,
     "user": {
      "displayName": "Abbass",
      "userId": "15291878327143677964"
     },
     "user_tz": 240
    },
    "id": "WlNUVGzQwdEy",
    "pycharm": {
     "name": "#%%\n"
    }
   },
   "outputs": [],
   "source": [
    "#a=np.linspace(0.01,3,10000)\n",
    "a=np.linspace(np.pi/4,np.pi/2,10000)\n",
    "b=np.linspace(1,10,10000)\n",
    "a=np.random.permutation(a)\n",
    "b=np.random.permutation(b)\n",
    "\n",
    "GausSignal=[]\n",
    "for i in range(10000):\n",
    "    F=gaus(x,a[i],int(b[i]))\n",
    "    normalization=np.max(abs(F))\n",
    "    cn=(np.dot(fft(N,100),gaus(x,a,b))/N)\n",
    "    fx=FourierSeries(cn,x,100)\n",
    "    GausSignal.append(F/normalization)"
   ]
  },
  {
   "cell_type": "markdown",
   "id": "ss1Dy1512y8a",
   "metadata": {
    "id": "ss1Dy1512y8a",
    "pycharm": {
     "name": "#%% md\n"
    }
   },
   "source": [
    "### Combining Results"
   ]
  },
  {
   "cell_type": "code",
   "execution_count": null,
   "id": "yR38e-g52xrs",
   "metadata": {
    "executionInfo": {
     "elapsed": 218,
     "status": "ok",
     "timestamp": 1652457991676,
     "user": {
      "displayName": "Abbass",
      "userId": "15291878327143677964"
     },
     "user_tz": 240
    },
    "id": "yR38e-g52xrs",
    "pycharm": {
     "name": "#%%\n"
    }
   },
   "outputs": [],
   "source": [
    "Signals=[BoxSignal,SawSignal,ExpSignal,SinSignal,GausSignal]\n",
    "SignalLabels=[\n",
    "    np.zeros(20000),\n",
    "    1*np.ones(20000),\n",
    "    2*np.ones(20000),\n",
    "    3*np.ones(20000),\n",
    "    4*np.ones(20000)]\n",
    "SignalsTrain=np.array(np.concatenate(Signals).flat)\n",
    "SignalsTrain=SignalsTrain.reshape((100000,100))\n",
    "SignalLabelsTrain=np.array(np.concatenate(SignalLabels).flat)"
   ]
  },
  {
   "cell_type": "markdown",
   "id": "T1I6HSGK3LoZ",
   "metadata": {
    "id": "T1I6HSGK3LoZ",
    "pycharm": {
     "name": "#%% md\n"
    }
   },
   "source": [
    "## Generating 1000 Functions + Fourier Series Representation of each signal for Testing Model"
   ]
  },
  {
   "cell_type": "markdown",
   "id": "nPX5bmkT3Loa",
   "metadata": {
    "id": "nPX5bmkT3Loa",
    "pycharm": {
     "name": "#%% md\n"
    }
   },
   "source": [
    "### Box Function"
   ]
  },
  {
   "cell_type": "code",
   "execution_count": null,
   "id": "EFKymE6D3Loc",
   "metadata": {
    "executionInfo": {
     "elapsed": 148,
     "status": "ok",
     "timestamp": 1652457991819,
     "user": {
      "displayName": "Abbass",
      "userId": "15291878327143677964"
     },
     "user_tz": 240
    },
    "id": "EFKymE6D3Loc",
    "pycharm": {
     "name": "#%%\n"
    }
   },
   "outputs": [],
   "source": [
    "## Generating 1000 functions of each for testing model\n",
    "#Box\n",
    "a=np.linspace(np.pi/4,np.pi/2,1000)\n",
    "b=np.append(np.linspace(-1,-0.01,500),np.linspace(0.01,1,500))\n",
    "a=np.random.permutation(a)\n",
    "b=np.random.permutation(b)\n",
    "BoxSignal=[]\n",
    "for i in range(1000):\n",
    "    F=box(x,a[i],b[i])\n",
    "    normalization=np.max(abs(F))\n",
    "    BoxSignal.append(F/normalization)\n",
    "\n"
   ]
  },
  {
   "cell_type": "markdown",
   "id": "tUEixCrsq89B",
   "metadata": {
    "id": "tUEixCrsq89B",
    "pycharm": {
     "name": "#%% md\n"
    }
   },
   "source": [
    "\n",
    "\n",
    "\n",
    "#### Fourier Representation\n"
   ]
  },
  {
   "cell_type": "code",
   "execution_count": null,
   "id": "sI_e_s3Zq_TG",
   "metadata": {
    "colab": {
     "base_uri": "https://localhost:8080/",
     "height": 122
    },
    "executionInfo": {
     "elapsed": 26,
     "status": "ok",
     "timestamp": 1652457991821,
     "user": {
      "displayName": "Abbass",
      "userId": "15291878327143677964"
     },
     "user_tz": 240
    },
    "id": "sI_e_s3Zq_TG",
    "outputId": "5fec3816-b510-41c5-c020-d56e8939132d",
    "pycharm": {
     "name": "#%%\n"
    }
   },
   "outputs": [],
   "source": [
    "\n",
    "def e(n,x,positve=True):\n",
    "    if(positve):\n",
    "        return np.e**(1j*n*x)\n",
    "    else:\n",
    "        return np.e**(-1j*n*x)\n",
    "''' TOO SLOW for COLAB\n",
    "def calculateCn(M1,D,F):\n",
    "    for p in range(M1-1):\n",
    "        for q in range(M1-1):\n",
    "            D[p][q]=(e(n[p],xi[q],False))\n",
    "    cn=np.dot(D,F)/M1\n",
    "    return cn\n",
    "  ##Fourier Series Representation\n",
    "\n",
    "  M1=200 #number of grid points\n",
    "  M2 = 1500\n",
    "  h=np.linspace(0,M1-1,M1-1) #\n",
    "  xi=-np.pi+(2*np.pi/M1)*h\n",
    "  D=np.zeros((M1-1,M1-1),dtype=complex)\n",
    "  n=np.linspace(-M1/2,M1/2,M1-1)\n",
    "  F=box(xi,a[i],b[i])\n",
    "  cn=calculateCn(M1,D,F)\n",
    "  h2=np.linspace(0,M2-1,M2-1)\n",
    "  xi2 =-np.pi+ (2*np.pi/M2)*h2\n",
    "  xi=np.linspace(-np.pi,np.pi,100)\n",
    "  D2=np.zeros((M2-1,M1-1),dtype=complex)W\n",
    "  for p in range(M2-1):\n",
    "    for q in range(M1-1):\n",
    "      D2[p][q]=(e(xi2[p],n[q]))\n",
    "\n",
    "  fx2 = (np.dot(D2,cn)).real\n",
    "  FourierBox.append(fx2)\n",
    "\n",
    "#TODO\n",
    "#figure out fft\n",
    "\n",
    "\n",
    "fx=[]\n",
    "for xi in x:\n",
    "    result=0\n",
    "    for n in range(int((-N/2)),int((N/2))):\n",
    "      result=result+(cn[int(i+(N/2))]*(np.e**(1j*n*xi))) #Calculate Fourier Series approximation using formula\n",
    "    fx.append(result.real)\n",
    "fig=go.Figure()\n",
    "plot(fig,x,box(x),'')\n",
    "plot(fig,x,fx,'')\n",
    "fig\n",
    "'''"
   ]
  },
  {
   "cell_type": "code",
   "execution_count": null,
   "id": "iJJ4bqR7IJ1-",
   "metadata": {
    "executionInfo": {
     "elapsed": 164,
     "status": "ok",
     "timestamp": 1652459054184,
     "user": {
      "displayName": "Abbass",
      "userId": "15291878327143677964"
     },
     "user_tz": 240
    },
    "id": "iJJ4bqR7IJ1-",
    "pycharm": {
     "name": "#%%\n"
    }
   },
   "outputs": [],
   "source": [
    "\n",
    "def fft(N,M=40):\n",
    "    #w=np.e**((2*np.pi*-1j)/N)\n",
    "    power=np.zeros((M,N),dtype=complex)\n",
    "    xj = np.linspace(-np.pi, np.pi, N)\n",
    "    for i in range(M):\n",
    "        for j in range(N):\n",
    "            #power[i][j]=((-N/2)+i)*j\n",
    "            power[i][j] = -1j*(i-M/2)*xj[j]\n",
    "    #DFT=(w**power)/N\n",
    "    DFT = np.e**power\n",
    "    return DFT\n"
   ]
  },
  {
   "cell_type": "code",
   "execution_count": null,
   "id": "1dxSlzVCfH_l",
   "metadata": {
    "colab": {
     "base_uri": "https://localhost:8080/",
     "height": 559
    },
    "executionInfo": {
     "elapsed": 180,
     "status": "ok",
     "timestamp": 1652459304669,
     "user": {
      "displayName": "Abbass",
      "userId": "15291878327143677964"
     },
     "user_tz": 240
    },
    "id": "1dxSlzVCfH_l",
    "outputId": "5feb1bdb-547a-48cd-805b-030197c0573c",
    "pycharm": {
     "name": "#%%\n"
    }
   },
   "outputs": [],
   "source": [
    "\n",
    "N=100\n",
    "def f(x):\n",
    "    return box(x)\n",
    "x=np.linspace(-np.pi,np.pi,N)\n",
    "fx=[]\n",
    "gx=[]\n",
    "cn=((np.dot(fft(N),f(x)))/N)\n",
    "M =40\n",
    "\n",
    "k=np.linspace(int((-M/2)),(M-1)-int((M/2)),M)\n",
    "dn=cn*1j*np.sign(k)\n",
    "\n",
    "for xi in x:\n",
    "    result=0\n",
    "    for n in range(int((-M/2)),(M-1)-int((M/2))):\n",
    "      result=result+(cn[int(n+(M/2))]*(np.e**(1j*n*xi))) #Calculate Fourier Series approximation using formula\n",
    "    fx.append(result.real)\n",
    "fig=go.Figure()\n",
    "plot(fig,x,fx,'')\n",
    "plot(fig,x,f(x),'original')\n",
    "fig\n",
    "\n",
    "#dn=cn*"
   ]
  },
  {
   "cell_type": "code",
   "execution_count": null,
   "id": "ZZ3y1jxcIJ1-",
   "metadata": {
    "colab": {
     "base_uri": "https://localhost:8080/",
     "height": 577
    },
    "executionInfo": {
     "elapsed": 20,
     "status": "ok",
     "timestamp": 1652459973713,
     "user": {
      "displayName": "Abbass",
      "userId": "15291878327143677964"
     },
     "user_tz": 240
    },
    "id": "ZZ3y1jxcIJ1-",
    "outputId": "b38c6159-25fd-46bf-b7b2-a4a85aae35ea",
    "pycharm": {
     "name": "#%%\n"
    }
   },
   "outputs": [],
   "source": [
    "\n",
    "N=100\n",
    "M = 40\n",
    "x=np.linspace(-np.pi,np.pi,N)\n",
    "\n",
    "## Generating 1000 functions of each for testing model\n",
    "#Box\n",
    "a=np.linspace(np.pi/4,np.pi/2,1000)\n",
    "b=np.append(np.linspace(-1,-0.01,500),np.linspace(0.01,1,500))\n",
    "a=np.random.permutation(a)\n",
    "b=np.random.permutation(b)\n",
    "BoxFourier40=[]\n",
    "for i in range(1000):\n",
    "    x=np.linspace(-np.pi,np.pi,N)\n",
    "    fx=[]\n",
    "    cn=((np.dot(fft(N),box(x,a[i],b[i])))/N)\n",
    "    for xi in x:\n",
    "        result=0\n",
    "        for n in range(int((-M/2)),(M-1)-int((M/2))):\n",
    "            result=result+(cn[int(n+(M/2))]*(np.e**(1j*n*xi))) #Calculate Fourier Series approximation using formula\n",
    "        fx.append(result.real)\n",
    "    BoxFourier40.append(fx)\n",
    "\n"
   ]
  },
  {
   "cell_type": "code",
   "execution_count": null,
   "id": "V2RGDKu8RTmZ",
   "metadata": {
    "colab": {
     "base_uri": "https://localhost:8080/",
     "height": 594
    },
    "executionInfo": {
     "elapsed": 126,
     "status": "ok",
     "timestamp": 1652460354156,
     "user": {
      "displayName": "Abbass",
      "userId": "15291878327143677964"
     },
     "user_tz": 240
    },
    "id": "V2RGDKu8RTmZ",
    "outputId": "7a0726e2-35ab-47b0-e0a0-a74f1e5d34d2",
    "pycharm": {
     "name": "#%%\n"
    }
   },
   "outputs": [],
   "source": [
    "\n",
    "N=100\n",
    "M = 80\n",
    "x=np.linspace(-np.pi,np.pi,N)\n",
    "\n",
    "## Generating 1000 functions of each for testing model\n",
    "#Box\n",
    "a=np.linspace(np.pi/4,np.pi/2,1000)\n",
    "b=np.append(np.linspace(-1,-0.01,500),np.linspace(0.01,1,500))\n",
    "a=np.random.permutation(a)\n",
    "b=np.random.permutation(b)\n",
    "BoxFourier80=[]\n",
    "for i in range(1000):\n",
    "    x=np.linspace(-np.pi,np.pi,N)\n",
    "    fx=[]\n",
    "    cn=((np.dot(fft(N,M),box(x,a[i],b[i])))/N)\n",
    "    for xi in x:\n",
    "        result=0\n",
    "        for n in range(int((-M/2)),(M-1)-int((M/2))):\n",
    "            result=result+(cn[int(n+(M/2))]*(np.e**(1j*n*xi))) #Calculate Fourier Series approximation using formula\n",
    "        fx.append(result.real)\n",
    "    BoxFourier80.append(fx)\n",
    "\n"
   ]
  },
  {
   "cell_type": "markdown",
   "id": "xhFsbcQwJ3nN",
   "metadata": {
    "id": "xhFsbcQwJ3nN",
    "pycharm": {
     "name": "#%% md\n"
    }
   },
   "source": [
    "#### with noise"
   ]
  },
  {
   "cell_type": "code",
   "execution_count": null,
   "id": "5OdQ2tS_J5in",
   "metadata": {
    "id": "5OdQ2tS_J5in",
    "pycharm": {
     "name": "#%%\n"
    }
   },
   "outputs": [],
   "source": [
    "## Generating 1000 functions of each for testing model\n",
    "#Box\n",
    "a=np.linspace(np.pi/4,np.pi/2,1000)\n",
    "b=np.append(np.linspace(-1,-0.01,500),np.linspace(0.01,1,500))\n",
    "a=np.random.permutation(a)\n",
    "b=np.random.permutation(b)\n",
    "BoxNoiseLow=[]\n",
    "BoxNoiseHigh=[]\n",
    "for i in range(1000):\n",
    "    F=box(x,a[i],b[i],True,0.05)\n",
    "    normalization=np.max(abs(F))\n",
    "    BoxNoiseLow.append(F/normalization)\n",
    "    F=box(x,a[i],b[i],True,0.3)\n",
    "    normalization=np.max(abs(F))\n",
    "    BoxNoiseHigh.append(F/normalization)\n",
    "\n"
   ]
  },
  {
   "cell_type": "markdown",
   "id": "udAmeUw03Lod",
   "metadata": {
    "id": "udAmeUw03Lod",
    "pycharm": {
     "name": "#%% md\n"
    }
   },
   "source": [
    "### Saw Function"
   ]
  },
  {
   "cell_type": "code",
   "execution_count": null,
   "id": "NLdgcp543Loe",
   "metadata": {
    "id": "NLdgcp543Loe",
    "pycharm": {
     "name": "#%%\n"
    }
   },
   "outputs": [],
   "source": [
    "a=np.linspace(np.pi/4,np.pi/2,1000)\n",
    "b=np.append(np.linspace(-1,-0.01,500),np.linspace(0.01,1,500))\n",
    "a=np.random.permutation(a)\n",
    "b=np.random.permutation(b)\n",
    "SawSignal=[]\n",
    "#normalization=np.max(abs(saw(x,max(a),max(b))))\n",
    "for i in range(1000):\n",
    "    F=saw(x,a[i],b[i])\n",
    "    normalization=np.max(abs(F))\n",
    "    SawSignal.append(F/normalization)"
   ]
  },
  {
   "cell_type": "markdown",
   "id": "kJ_usP2ehgLh",
   "metadata": {
    "id": "kJ_usP2ehgLh",
    "pycharm": {
     "name": "#%% md\n"
    }
   },
   "source": [
    "#### Fourier"
   ]
  },
  {
   "cell_type": "code",
   "execution_count": null,
   "id": "LZ2wpE56hlLE",
   "metadata": {
    "id": "LZ2wpE56hlLE",
    "pycharm": {
     "name": "#%%\n"
    }
   },
   "outputs": [],
   "source": [
    "\n",
    "\n",
    "N=100\n",
    "M = 40\n",
    "x=np.linspace(-np.pi,np.pi,N)\n",
    "\n",
    "## Generating 1000 functions of each for testing model\n",
    "#Box\n",
    "a=np.linspace(np.pi/4,np.pi/2,1000)\n",
    "b=np.append(np.linspace(-1,-0.01,500),np.linspace(0.01,1,500))\n",
    "a=np.random.permutation(a)\n",
    "b=np.random.permutation(b)\n",
    "SawFourier40=[]\n",
    "for i in range(1000):\n",
    "    x=np.linspace(-np.pi,np.pi,N)\n",
    "    fx=[]\n",
    "    cn=((np.dot(fft(N),saw(x,a[i],b[i])))/N)\n",
    "    for xi in x:\n",
    "        result=0\n",
    "        for n in range(int((-M/2)),(M-1)-int((M/2))):\n",
    "            result=result+(cn[int(n+(M/2))]*(np.e**(1j*n*xi))) #Calculate Fourier Series approximation using formula\n",
    "        fx.append(result.real)\n",
    "    SawFourier40.append(fx)\n",
    "\n",
    "\n",
    "    \n"
   ]
  },
  {
   "cell_type": "code",
   "execution_count": null,
   "id": "e989c024",
   "metadata": {
    "pycharm": {
     "name": "#%%\n"
    }
   },
   "outputs": [],
   "source": [
    "\n",
    "\n",
    "N=100\n",
    "M = 80\n",
    "x=np.linspace(-np.pi,np.pi,N)\n",
    "\n",
    "## Generating 1000 functions of each for testing model\n",
    "#Box\n",
    "a=np.linspace(np.pi/4,np.pi/2,1000)\n",
    "b=np.append(np.linspace(-1,-0.01,500),np.linspace(0.01,1,500))\n",
    "a=np.random.permutation(a)\n",
    "b=np.random.permutation(b)\n",
    "SawFourier80=[]\n",
    "for i in range(1000):\n",
    "    x=np.linspace(-np.pi,np.pi,N)\n",
    "    fx=[]\n",
    "    cn=((np.dot(fft(N,M),saw(x,a[i],b[i])))/N)\n",
    "    for xi in x:\n",
    "        result=0\n",
    "        for n in range(int((-M/2)),(M-1)-int((M/2))):\n",
    "            result=result+(cn[int(n+(M/2))]*(np.e**(1j*n*xi))) #Calculate Fourier Series approximation using formula\n",
    "        fx.append(result.real)\n",
    "    SawFourier80.append(fx)\n",
    "\n",
    "\n",
    "    \n"
   ]
  },
  {
   "cell_type": "markdown",
   "id": "YMCm_-7ALmng",
   "metadata": {
    "id": "YMCm_-7ALmng",
    "pycharm": {
     "name": "#%% md\n"
    }
   },
   "source": [
    "#### with noise"
   ]
  },
  {
   "cell_type": "code",
   "execution_count": null,
   "id": "V70i7WSZLpCu",
   "metadata": {
    "id": "V70i7WSZLpCu",
    "pycharm": {
     "name": "#%%\n"
    }
   },
   "outputs": [],
   "source": [
    "a=np.linspace(np.pi/4,np.pi/2,1000)\n",
    "b=np.append(np.linspace(-1,-0.01,500),np.linspace(0.01,1,500))\n",
    "a=np.random.permutation(a)\n",
    "b=np.random.permutation(b)\n",
    "SawNoiseHigh=[]\n",
    "SawNoiseLow=[]\n",
    "\n",
    "#normalization=np.max(abs(saw(x,max(a),max(b))))\n",
    "for i in range(1000):\n",
    "    F=saw(x,a[i],b[i],True,.3)\n",
    "    normalization=np.max(abs(F))\n",
    "    SawNoiseHigh.append(F/normalization)\n",
    "    F=saw(x,a[i],b[i],True,.05)\n",
    "    normalization=np.max(abs(F))\n",
    "    SawNoiseLow.append(F/normalization)"
   ]
  },
  {
   "cell_type": "markdown",
   "id": "9eUEl0qi3Lof",
   "metadata": {
    "id": "9eUEl0qi3Lof",
    "pycharm": {
     "name": "#%% md\n"
    }
   },
   "source": [
    "### Exponential"
   ]
  },
  {
   "cell_type": "code",
   "execution_count": null,
   "id": "0CbWNm8S3Lof",
   "metadata": {
    "id": "0CbWNm8S3Lof",
    "pycharm": {
     "name": "#%%\n"
    }
   },
   "outputs": [],
   "source": [
    "a=np.linspace(np.pi/4,np.pi/2,1000)\n",
    "b=np.append(np.linspace(-1,-0.1,500),np.linspace(0.1,1,500))\n",
    "c=np.append(np.linspace(-3,-1.01,500),np.linspace(-1.01,1,500))\n",
    "a=np.random.permutation(a)\n",
    "b=np.random.permutation(b)\n",
    "c=np.random.permutation(c)\n",
    "ExpSignal=[]\n",
    "for i in range(1000):\n",
    "    F=exp(x,a[i],b[i],c[i])\n",
    "    normalization=np.max(abs(F))\n",
    "    ExpSignal.append(F/normalization)"
   ]
  },
  {
   "cell_type": "markdown",
   "id": "fhghgKMGh5hj",
   "metadata": {
    "id": "fhghgKMGh5hj",
    "pycharm": {
     "name": "#%% md\n"
    }
   },
   "source": [
    "#### Fourier"
   ]
  },
  {
   "cell_type": "code",
   "execution_count": null,
   "id": "jeE22oiNiAFx",
   "metadata": {
    "id": "jeE22oiNiAFx",
    "pycharm": {
     "name": "#%%\n"
    }
   },
   "outputs": [],
   "source": [
    "N=100\n",
    "M = 40\n",
    "x=np.linspace(-np.pi,np.pi,N)\n",
    "\n",
    "a=np.linspace(np.pi/4,np.pi/2,1000)\n",
    "b=np.append(np.linspace(-1,-0.1,500),np.linspace(0.1,1,500))\n",
    "c=np.append(np.linspace(-3,-1.01,500),np.linspace(-1.01,1,500))\n",
    "a=np.random.permutation(a)\n",
    "b=np.random.permutation(b)\n",
    "c=np.random.permutation(c)\n",
    "ExpFourier40=[]\n",
    "for i in range(1000):\n",
    "    x=np.linspace(-np.pi,np.pi,N)\n",
    "    fx=[]\n",
    "    cn=((np.dot(fft(N),exp(x,a[i],b[i],c[i])))/N)\n",
    "    for xi in x:\n",
    "        result=0\n",
    "        for n in range(int((-M/2)),(M-1)-int((M/2))):\n",
    "            result=result+(cn[int(n+(M/2))]*(np.e**(1j*n*xi))) #Calculate Fourier Series approximation using formula\n",
    "        fx.append(result.real)\n",
    "    ExpFourier40.append(fx)\n",
    "\n",
    "\n",
    "    \n"
   ]
  },
  {
   "cell_type": "code",
   "execution_count": null,
   "id": "94fbd570",
   "metadata": {
    "pycharm": {
     "name": "#%%\n"
    }
   },
   "outputs": [],
   "source": [
    "N=100\n",
    "M = 80\n",
    "x=np.linspace(-np.pi,np.pi,N)\n",
    "\n",
    "a=np.linspace(np.pi/4,np.pi/2,1000)\n",
    "b=np.append(np.linspace(-1,-0.1,500),np.linspace(0.1,1,500))\n",
    "c=np.append(np.linspace(-3,-1.01,500),np.linspace(-1.01,1,500))\n",
    "a=np.random.permutation(a)\n",
    "b=np.random.permutation(b)\n",
    "c=np.random.permutation(c)\n",
    "ExpFourier80=[]\n",
    "for i in range(1000):\n",
    "    x=np.linspace(-np.pi,np.pi,N)\n",
    "    fx=[]\n",
    "    cn=((np.dot(fft(N,M),exp(x,a[i],b[i],c[i])))/N)\n",
    "    for xi in x:\n",
    "        result=0\n",
    "        for n in range(int((-M/2)),(M-1)-int((M/2))):\n",
    "            result=result+(cn[int(n+(M/2))]*(np.e**(1j*n*xi))) #Calculate Fourier Series approximation using formula\n",
    "        fx.append(result.real)\n",
    "    ExpFourier80.append(fx)\n",
    "\n",
    "\n",
    "    \n"
   ]
  },
  {
   "cell_type": "markdown",
   "id": "aJvPe-9pLz23",
   "metadata": {
    "id": "aJvPe-9pLz23",
    "pycharm": {
     "name": "#%% md\n"
    }
   },
   "source": [
    "#### with noise"
   ]
  },
  {
   "cell_type": "code",
   "execution_count": null,
   "id": "-SMYdObqL2jJ",
   "metadata": {
    "id": "-SMYdObqL2jJ",
    "pycharm": {
     "name": "#%%\n"
    }
   },
   "outputs": [],
   "source": [
    "a=np.linspace(np.pi/4,np.pi/2,1000)\n",
    "b=np.append(np.linspace(-1,-0.1,500),np.linspace(0.1,1,500))\n",
    "c=np.append(np.linspace(-3,-1.01,500),np.linspace(-1.01,1,500))\n",
    "a=np.random.permutation(a)\n",
    "b=np.random.permutation(b)\n",
    "c=np.random.permutation(c)\n",
    "ExpNoiseHigh=[]\n",
    "ExpNoiseLow=[]\n",
    "\n",
    "for i in range(1000):\n",
    "    F=exp(x,a[i],b[i],True,0.05)\n",
    "    normalization=np.max(abs(F))\n",
    "    ExpNoiseLow.append(F/normalization)\n",
    "    F=exp(x,a[i],b[i],True,.3)\n",
    "    normalization=np.max(abs(F))\n",
    "    ExpNoiseHigh.append(F/normalization)"
   ]
  },
  {
   "cell_type": "markdown",
   "id": "HE2frviS3Loh",
   "metadata": {
    "id": "HE2frviS3Loh",
    "pycharm": {
     "name": "#%% md\n"
    }
   },
   "source": [
    "### Sinusoid"
   ]
  },
  {
   "cell_type": "code",
   "execution_count": null,
   "id": "ZvJqcDer3Loh",
   "metadata": {
    "id": "ZvJqcDer3Loh",
    "pycharm": {
     "name": "#%%\n"
    }
   },
   "outputs": [],
   "source": [
    "a=np.linspace(np.pi/4,np.pi/2,1000)\n",
    "b=np.append(np.linspace(-1,-0.1,500),np.linspace(0.1,2*np.pi,500))\n",
    "c=np.append(np.linspace(-1,-0.1,500),np.linspace(0.01,1,500))\n",
    "a=np.random.permutation(a)\n",
    "b=np.random.permutation(b)\n",
    "c=np.random.permutation(c)\n",
    "SinSignal=[]\n",
    "for i in range(1000):\n",
    "    F=sinu(x,a[i],b[i],c[i])\n",
    "    normalization=np.max(abs(F))\n",
    "    SinSignal.append(F/normalization)"
   ]
  },
  {
   "cell_type": "markdown",
   "id": "8gRkDHpfifQ_",
   "metadata": {
    "id": "8gRkDHpfifQ_",
    "pycharm": {
     "name": "#%% md\n"
    }
   },
   "source": [
    "#### Fourier"
   ]
  },
  {
   "cell_type": "code",
   "execution_count": null,
   "id": "hz-9FlJJihI6",
   "metadata": {
    "id": "hz-9FlJJihI6",
    "pycharm": {
     "name": "#%%\n"
    }
   },
   "outputs": [],
   "source": [
    "N=100\n",
    "M = 40\n",
    "\n",
    "x=np.linspace(-np.pi,np.pi,N)\n",
    "a=np.linspace(np.pi/4,np.pi/2,1000)\n",
    "b=np.append(np.linspace(-1,-0.1,500),np.linspace(0.1,2*np.pi,500))\n",
    "c=np.append(np.linspace(-1,-0.1,500),np.linspace(0.01,1,500))\n",
    "a=np.random.permutation(a)\n",
    "b=np.random.permutation(b)\n",
    "c=np.random.permutation(c)\n",
    "SinFourier40=[]\n",
    "for i in range(1000):\n",
    "    x=np.linspace(-np.pi,np.pi,N)\n",
    "    fx=[]\n",
    "    cn=((np.dot(fft(N),sinu(x,a[i],b[i],c[i])))/N)\n",
    "    for xi in x:\n",
    "        result=0\n",
    "        for n in range(int((-M/2)),(M-1)-int((M/2))):\n",
    "            result=result+(cn[int(n+(M/2))]*(np.e**(1j*n*xi))) #Calculate Fourier Series approximation using formula\n",
    "        fx.append(result.real)\n",
    "    SinFourier40.append(fx)\n",
    "\n",
    "\n"
   ]
  },
  {
   "cell_type": "code",
   "execution_count": null,
   "id": "56ea8292",
   "metadata": {
    "pycharm": {
     "name": "#%%\n"
    }
   },
   "outputs": [],
   "source": [
    "N=100\n",
    "M = 80\n",
    "\n",
    "x=np.linspace(-np.pi,np.pi,N)\n",
    "a=np.linspace(np.pi/4,np.pi/2,1000)\n",
    "b=np.append(np.linspace(-1,-0.1,500),np.linspace(0.1,2*np.pi,500))\n",
    "c=np.append(np.linspace(-1,-0.1,500),np.linspace(0.01,1,500))\n",
    "a=np.random.permutation(a)\n",
    "b=np.random.permutation(b)\n",
    "c=np.random.permutation(c)\n",
    "SinFourier80=[]\n",
    "for i in range(1000):\n",
    "    x=np.linspace(-np.pi,np.pi,N)\n",
    "    fx=[]\n",
    "    cn=((np.dot(fft(N,M),sinu(x,a[i],b[i],c[i])))/N)\n",
    "    for xi in x:\n",
    "        result=0\n",
    "        for n in range(int((-M/2)),(M-1)-int((M/2))):\n",
    "            result=result+(cn[int(n+(M/2))]*(np.e**(1j*n*xi))) #Calculate Fourier Series approximation using formula\n",
    "        fx.append(result.real)\n",
    "    SinFourier80.append(fx)"
   ]
  },
  {
   "cell_type": "markdown",
   "id": "L9OzobzPMAXP",
   "metadata": {
    "id": "L9OzobzPMAXP",
    "pycharm": {
     "name": "#%% md\n"
    }
   },
   "source": [
    "#### with noise"
   ]
  },
  {
   "cell_type": "code",
   "execution_count": null,
   "id": "s0UiTJb7MC0J",
   "metadata": {
    "id": "s0UiTJb7MC0J",
    "pycharm": {
     "name": "#%%\n"
    }
   },
   "outputs": [],
   "source": [
    "a=np.linspace(np.pi/4,np.pi/2,1000)\n",
    "b=np.append(np.linspace(-1,-0.1,500),np.linspace(0.1,2*np.pi,500))\n",
    "c=np.append(np.linspace(-1,-0.1,500),np.linspace(0.01,1,500))\n",
    "a=np.random.permutation(a)\n",
    "b=np.random.permutation(b)\n",
    "c=np.random.permutation(c)\n",
    "SinNoiseHigh=[]\n",
    "SinNoiseLow=[]\n",
    "for i in range(1000):\n",
    "    F=sinu(x,a[i],b[i],c[i],True,.3)\n",
    "    normalization=np.max(abs(F))\n",
    "    SinNoiseHigh.append(F/normalization)\n",
    "    F=sinu(x,a[i],b[i],c[i],True,.05)\n",
    "    normalization=np.max(abs(F))\n",
    "    SinNoiseLow.append(F/normalization)"
   ]
  },
  {
   "cell_type": "markdown",
   "id": "UJLzroLo3Loi",
   "metadata": {
    "id": "UJLzroLo3Loi",
    "pycharm": {
     "name": "#%% md\n"
    }
   },
   "source": [
    "### Gaussian"
   ]
  },
  {
   "cell_type": "code",
   "execution_count": null,
   "id": "48MGfr023Loj",
   "metadata": {
    "id": "48MGfr023Loj",
    "pycharm": {
     "name": "#%%\n"
    }
   },
   "outputs": [],
   "source": [
    "a=np.linspace(np.pi/4,np.pi/2,1000)\n",
    "b=np.linspace(1,10,1000)\n",
    "a=np.random.permutation(a)\n",
    "b=np.random.permutation(b)\n",
    "\n",
    "GausSignal=[]\n",
    "for i in range(1000):\n",
    "    F=gaus(x,a[i],int(b[i]))\n",
    "    normalization=np.max(abs(F))\n",
    "    GausSignal.append(F/normalization)"
   ]
  },
  {
   "cell_type": "markdown",
   "id": "DFtL9XwGi5TT",
   "metadata": {
    "id": "DFtL9XwGi5TT",
    "pycharm": {
     "name": "#%% md\n"
    }
   },
   "source": [
    "#### Fourier"
   ]
  },
  {
   "cell_type": "code",
   "execution_count": null,
   "id": "eFZWAQU2i8AF",
   "metadata": {
    "id": "eFZWAQU2i8AF",
    "pycharm": {
     "name": "#%%\n"
    }
   },
   "outputs": [],
   "source": [
    "N=100\n",
    "M = 40\n",
    "x=np.linspace(-np.pi,np.pi,N)\n",
    "\n",
    "a=np.linspace(np.pi/4,np.pi/2,1000)\n",
    "b=np.linspace(1,10,1000)\n",
    "a=np.random.permutation(a)\n",
    "b=np.random.permutation(b)\n",
    "GausFourier40=[]\n",
    "for i in range(1000):\n",
    "    x=np.linspace(-np.pi,np.pi,N)\n",
    "    fx=[]\n",
    "    cn=((np.dot(fft(N),gaus(x,a[i],int(b[i]))))/N)\n",
    "    for xi in x:\n",
    "        result=0\n",
    "        for n in range(int((-M/2)),(M-1)-int((M/2))):\n",
    "            result=result+(cn[int(n+(M/2))]*(np.e**(1j*n*xi))) #Calculate Fourier Series approximation using formula\n",
    "        fx.append(result.real)\n",
    "    GausFourier40.append(fx)\n",
    "\n",
    "\n"
   ]
  },
  {
   "cell_type": "code",
   "execution_count": null,
   "id": "31d24904",
   "metadata": {
    "pycharm": {
     "name": "#%%\n"
    }
   },
   "outputs": [],
   "source": [
    "N=100\n",
    "M = 80\n",
    "x=np.linspace(-np.pi,np.pi,N)\n",
    "\n",
    "a=np.linspace(np.pi/4,np.pi/2,1000)\n",
    "b=np.linspace(1,10,1000)\n",
    "a=np.random.permutation(a)\n",
    "b=np.random.permutation(b)\n",
    "GausFourier80=[]\n",
    "for i in range(1000):\n",
    "    x=np.linspace(-np.pi,np.pi,N)\n",
    "    fx=[]\n",
    "    cn=((np.dot(fft(N,M),gaus(x,a[i],int(b[i]))))/N)\n",
    "    for xi in x:\n",
    "        result=0\n",
    "        for n in range(int((-M/2)),(M-1)-int((M/2))):\n",
    "            result=result+(cn[int(n+(M/2))]*(np.e**(1j*n*xi))) #Calculate Fourier Series approximation using formula\n",
    "        fx.append(result.real)\n",
    "    GausFourier80.append(fx)\n",
    "\n",
    "\n"
   ]
  },
  {
   "cell_type": "markdown",
   "id": "FyyNWizlMJ1x",
   "metadata": {
    "id": "FyyNWizlMJ1x",
    "pycharm": {
     "name": "#%% md\n"
    }
   },
   "source": [
    "#### with noise"
   ]
  },
  {
   "cell_type": "code",
   "execution_count": null,
   "id": "vRmzYNnmMMEX",
   "metadata": {
    "id": "vRmzYNnmMMEX",
    "pycharm": {
     "name": "#%%\n"
    }
   },
   "outputs": [],
   "source": [
    "a=np.linspace(np.pi/4,np.pi/2,1000)\n",
    "b=np.linspace(1,10,1000)\n",
    "a=np.random.permutation(a)\n",
    "b=np.random.permutation(b)\n",
    "\n",
    "GausNoiseHigh=[]\n",
    "GausNoiseLow=[]\n",
    "for i in range(1000):\n",
    "    F=gaus(x,a[i],int(b[i]),True,0.3)\n",
    "    normalization=np.max(abs(F))\n",
    "    GausNoiseHigh.append(F/normalization)\n",
    "    F=gaus(x,a[i],int(b[i]),True,0.05)\n",
    "    normalization=np.max(abs(F))\n",
    "    GausNoiseLow.append(F/normalization)"
   ]
  },
  {
   "cell_type": "markdown",
   "id": "DWayAbbc3Loj",
   "metadata": {
    "id": "DWayAbbc3Loj",
    "pycharm": {
     "name": "#%% md\n"
    }
   },
   "source": [
    "### Combining Results"
   ]
  },
  {
   "cell_type": "code",
   "execution_count": null,
   "id": "4V-HX7G53Lok",
   "metadata": {
    "id": "4V-HX7G53Lok",
    "pycharm": {
     "name": "#%%\n"
    }
   },
   "outputs": [],
   "source": [
    "#Combining Signals\n",
    "Signals=[BoxSignal,SawSignal,ExpSignal,SinSignal,GausSignal]\n",
    "SignalsWNoiseHigh=[[BoxNoiseHigh,SawNoiseHigh,ExpNoiseHigh,SinNoiseHigh,GausNoiseHigh]]\n",
    "SignalsWNoiseLow=[[BoxNoiseLow,SawNoiseLow,ExpNoiseLow,SinNoiseLow,GausNoiseLow]]\n",
    "SignalsFourier40=[[BoxFourier40,SawFourier40,ExpFourier40,SinFourier40,GausFourier40]]\n",
    "SignalsFourier80=[[BoxFourier80,SawFourier80,ExpFourier80,SinFourier80,GausFourier80]]\n",
    "SignalLabels=[\n",
    "    np.zeros(1000),\n",
    "    1*np.ones(1000),\n",
    "    2*np.ones(1000),\n",
    "    3*np.ones(1000),\n",
    "    4*np.ones(1000)]\n",
    "SignalsTest=np.array(np.concatenate(Signals).flat)\n",
    "SignalsTest=SignalsTest.reshape((5000,100))\n",
    "SignalsWNoiseHighTest=np.array(np.concatenate(SignalsWNoiseHigh).flat)\n",
    "SignalsWNoiseHighTest=SignalsWNoiseHighTest.reshape((5000,100))\n",
    "SignalsWNoiseLowTest=np.array(np.concatenate(SignalsWNoiseLow).flat)\n",
    "SignalsWNoiseLowTest=SignalsWNoiseLowTest.reshape((5000,100))\n",
    "\n",
    "SignalsFourier40Test=np.array(np.concatenate(SignalsFourier40).flat)\n",
    "SignalsFourier80Test=np.array(np.concatenate(SignalsFourier80).flat)\n",
    "\n",
    "#SignalsFourierTest=SignalsFourierTest.reshape((5000,100))\n",
    "SignalLabelsTest=np.array(np.concatenate(SignalLabels).flat)"
   ]
  },
  {
   "cell_type": "code",
   "execution_count": null,
   "id": "CzFZJuUXH9Qa",
   "metadata": {
    "id": "CzFZJuUXH9Qa",
    "pycharm": {
     "name": "#%%\n"
    }
   },
   "outputs": [],
   "source": []
  },
  {
   "cell_type": "markdown",
   "id": "BZX8EBpN3fNZ",
   "metadata": {
    "id": "BZX8EBpN3fNZ",
    "pycharm": {
     "name": "#%% md\n"
    }
   },
   "source": [
    "## Visualization of Data of N samples from test Data"
   ]
  },
  {
   "cell_type": "code",
   "execution_count": null,
   "id": "FKDDI_DLx1jS",
   "metadata": {
    "colab": {
     "base_uri": "https://localhost:8080/",
     "height": 1000
    },
    "executionInfo": {
     "elapsed": 427,
     "status": "ok",
     "timestamp": 1651519076799,
     "user": {
      "displayName": "Abbass",
      "userId": "15291878327143677964"
     },
     "user_tz": 240
    },
    "id": "FKDDI_DLx1jS",
    "outputId": "fc891ec3-616b-43cf-fc87-ed370c203c53",
    "pycharm": {
     "name": "#%%\n"
    }
   },
   "outputs": [],
   "source": [
    "import plotly.graph_objects as go\n",
    "from plotly.subplots import make_subplots\n",
    "import numpy as np\n",
    "\n",
    "N=5\n",
    "fig =make_subplots(\n",
    "    rows=N,cols=5,\n",
    "    subplot_titles=(\"Box Signal\",\"Saw Signal\", \"Exponential Signal\",\"Sinusoid Signal\",\"Gaussian Signal\")\n",
    "    )\n",
    "fig.update_xaxes(range=[-np.pi,np.pi])\n",
    "#fig.update_yaxes(range=[-1,1])\n",
    "\n",
    "sample=np.random.choice(np.linspace(0,1000,1000), N, replace=False)\n",
    "sample=np.around(sample)\n",
    "for i in range(N):\n",
    "    index=int(sample[i])\n",
    "    fig.add_trace(\n",
    "        go.Scatter(\n",
    "            x=x,y=BoxSignal[index],name='Constant Signal %d'%i,mode=\"lines\"\n",
    "        ),\n",
    "        row=i+1,col=1\n",
    "    )\n",
    "for i in range(N):\n",
    "    index=int(sample[i])\n",
    "    fig.add_trace(\n",
    "        go.Scatter(\n",
    "            x=x,y=SawSignal[index],name='Line Signal %d'%i,mode=\"lines\"\n",
    "        ),\n",
    "        row=i+1,col=2\n",
    "    )\n",
    "for i in range(N):\n",
    "    index=int(sample[i])\n",
    "    fig.add_trace(\n",
    "        go.Scatter(\n",
    "            x=x,y=ExpSignal[index],name='Exp Signal %d'%i,mode=\"lines\"\n",
    "        ),\n",
    "        row=i+1,col=3\n",
    "    )\n",
    "for i in range(N):\n",
    "    index=int(sample[i])\n",
    "    fig.add_trace(\n",
    "        go.Scatter(\n",
    "            x=x,y=SinSignal[index],name='Sinusoid Signal %d'%i,mode=\"lines\"\n",
    "        ),\n",
    "        row=i+1,col=4\n",
    "    )\n",
    "for i in range(N):\n",
    "    index=int(sample[i])\n",
    "    fig.add_trace(\n",
    "        go.Scatter(\n",
    "            x=x,y=GausSignal[index],name='Gaus Signal %d'%i,mode=\"lines\"\n",
    "        ),\n",
    "        row=i+1,col=5\n",
    "    )\n",
    "#fig.update_xaxes(matches='x')\n",
    "fig.update_layout(height=1200,width=1000,showlegend=False, title_text=\"%d Test Samples of Generated Signals w/o noise\"%N)\n",
    "fig.show()\n",
    "\n"
   ]
  },
  {
   "cell_type": "markdown",
   "id": "7MRvmIYNjLmz",
   "metadata": {
    "id": "7MRvmIYNjLmz",
    "pycharm": {
     "name": "#%% md\n"
    }
   },
   "source": [
    "### Fourier Data"
   ]
  },
  {
   "cell_type": "code",
   "execution_count": null,
   "id": "b2_j-wpnjOyL",
   "metadata": {
    "colab": {
     "base_uri": "https://localhost:8080/",
     "height": 1000,
     "output_embedded_package_id": "1krBdHzOVQEUOWkNmxAoA4BB-FgYIX5Wq"
    },
    "executionInfo": {
     "elapsed": 1885,
     "status": "ok",
     "timestamp": 1651519078678,
     "user": {
      "displayName": "Abbass",
      "userId": "15291878327143677964"
     },
     "user_tz": 240
    },
    "id": "b2_j-wpnjOyL",
    "outputId": "78465e3e-22d7-4b05-8352-6f63e84dc364",
    "pycharm": {
     "name": "#%%\n"
    }
   },
   "outputs": [],
   "source": [
    "import plotly.graph_objects as go\n",
    "from plotly.subplots import make_subplots\n",
    "import numpy as np\n",
    "\n",
    "N=10\n",
    "fig =make_subplots(\n",
    "    rows=N,cols=5,\n",
    "    subplot_titles=(\"Box Signal\",\"Saw Signal\", \"Exponential Signal\",\"Sinusoid Signal\",\"Gaussian Signal\")\n",
    "    )\n",
    "fig.update_xaxes(range=[-np.pi,np.pi])\n",
    "#fig.update_yaxes(range=[-1,1])\n",
    "\n",
    "sample=np.random.choice(np.linspace(0,1000,1000), N, replace=False)\n",
    "sample=np.around(sample)\n",
    "for i in range(N):\n",
    "    index=int(sample[i])\n",
    "    fig.add_trace(\n",
    "        go.Scatter(\n",
    "            x=x,y=BoxFourier40[index],name='Constant Signal %d'%i,mode=\"lines\"\n",
    "        ),\n",
    "        row=i+1,col=1\n",
    "    )\n",
    "for i in range(N):\n",
    "    index=int(sample[i])\n",
    "    fig.add_trace(\n",
    "        go.Scatter(\n",
    "            x=x,y=SawFourier40[index],name='Line Signal %d'%i,mode=\"lines\"\n",
    "        ),\n",
    "        row=i+1,col=2\n",
    "    )\n",
    "for i in range(N):\n",
    "    index=int(sample[i])\n",
    "    fig.add_trace(\n",
    "        go.Scatter(\n",
    "            x=x,y=ExpFourier40[index],name='Exp Signal %d'%i,mode=\"lines\"\n",
    "        ),\n",
    "        row=i+1,col=3\n",
    "    )\n",
    "for i in range(N):\n",
    "    index=int(sample[i])\n",
    "    fig.add_trace(\n",
    "        go.Scatter(\n",
    "            x=x,y=SinFourier40[index],name='Sinusoid Signal %d'%i,mode=\"lines\"\n",
    "        ),\n",
    "        row=i+1,col=4\n",
    "    )\n",
    "for i in range(N):\n",
    "    index=int(sample[i])\n",
    "    fig.add_trace(\n",
    "        go.Scatter(\n",
    "            x=x,y=GausFourier40[index],name='Gaus Signal %d'%i,mode=\"lines\"\n",
    "        ),\n",
    "        row=i+1,col=5\n",
    "    )\n",
    "#fig.update_xaxes(matches='x')\n",
    "fig.update_layout(height=1200,width=1000,showlegend=False, title_text=\"%d Test Samples of Fourier Data N=40\"%N)\n",
    "fig.show()\n",
    "\n"
   ]
  },
  {
   "cell_type": "code",
   "execution_count": null,
   "id": "18e9085c",
   "metadata": {
    "pycharm": {
     "name": "#%%\n"
    }
   },
   "outputs": [],
   "source": [
    "import plotly.graph_objects as go\n",
    "from plotly.subplots import make_subplots\n",
    "import numpy as np\n",
    "\n",
    "N=10\n",
    "fig =make_subplots(\n",
    "    rows=N,cols=5,\n",
    "    subplot_titles=(\"Box Signal\",\"Saw Signal\", \"Exponential Signal\",\"Sinusoid Signal\",\"Gaussian Signal\")\n",
    "    )\n",
    "fig.update_xaxes(range=[-np.pi,np.pi])\n",
    "#fig.update_yaxes(range=[-1,1])\n",
    "\n",
    "sample=np.random.choice(np.linspace(0,1000,1000), N, replace=False)\n",
    "sample=np.around(sample)\n",
    "for i in range(N):\n",
    "    index=int(sample[i])\n",
    "    fig.add_trace(\n",
    "        go.Scatter(\n",
    "            x=x,y=BoxFourier80[index],name='Constant Signal %d'%i,mode=\"lines\"\n",
    "        ),\n",
    "        row=i+1,col=1\n",
    "    )\n",
    "for i in range(N):\n",
    "    index=int(sample[i])\n",
    "    fig.add_trace(\n",
    "        go.Scatter(\n",
    "            x=x,y=SawFourier80[index],name='Line Signal %d'%i,mode=\"lines\"\n",
    "        ),\n",
    "        row=i+1,col=2\n",
    "    )\n",
    "for i in range(N):\n",
    "    index=int(sample[i])\n",
    "    fig.add_trace(\n",
    "        go.Scatter(\n",
    "            x=x,y=ExpFourier80[index],name='Exp Signal %d'%i,mode=\"lines\"\n",
    "        ),\n",
    "        row=i+1,col=3\n",
    "    )\n",
    "for i in range(N):\n",
    "    index=int(sample[i])\n",
    "    fig.add_trace(\n",
    "        go.Scatter(\n",
    "            x=x,y=SinFourier80[index],name='Sinusoid Signal %d'%i,mode=\"lines\"\n",
    "        ),\n",
    "        row=i+1,col=4\n",
    "    )\n",
    "for i in range(N):\n",
    "    index=int(sample[i])\n",
    "    fig.add_trace(\n",
    "        go.Scatter(\n",
    "            x=x,y=GausFourier80[index],name='Gaus Signal %d'%i,mode=\"lines\"\n",
    "        ),\n",
    "        row=i+1,col=5\n",
    "    )\n",
    "#fig.update_xaxes(matches='x')\n",
    "fig.update_layout(height=1200,width=1000,showlegend=False, title_text=\"%d Test Samples of Fourier Data N=80\"%N)\n",
    "fig.show()\n",
    "\n"
   ]
  },
  {
   "cell_type": "markdown",
   "id": "vwI0hWbeM4Qe",
   "metadata": {
    "id": "vwI0hWbeM4Qe",
    "pycharm": {
     "name": "#%% md\n"
    }
   },
   "source": [
    "### With Noise"
   ]
  },
  {
   "cell_type": "code",
   "execution_count": null,
   "id": "npuVsLzuLIhO",
   "metadata": {
    "colab": {
     "base_uri": "https://localhost:8080/",
     "height": 1000
    },
    "executionInfo": {
     "elapsed": 13,
     "status": "ok",
     "timestamp": 1651519078679,
     "user": {
      "displayName": "Abbass",
      "userId": "15291878327143677964"
     },
     "user_tz": 240
    },
    "id": "npuVsLzuLIhO",
    "outputId": "a8d76c35-a9fe-48b6-def7-47ce896a894c",
    "pycharm": {
     "name": "#%%\n"
    }
   },
   "outputs": [],
   "source": [
    "import plotly.graph_objects as go\n",
    "from plotly.subplots import make_subplots\n",
    "import numpy as np\n",
    "\n",
    "N=5\n",
    "fig =make_subplots(\n",
    "    rows=N,cols=5,\n",
    "    subplot_titles=(\"Box Signal\",\"Saw Signal\", \"Exponential Signal\",\"Sinusoid Signal\",\"Gaussian Signal\")\n",
    "    )\n",
    "fig.update_xaxes(range=[-np.pi,np.pi])\n",
    "#fig.update_yaxes(range=[-1,1])\n",
    "\n",
    "sample=np.random.choice(np.linspace(0,1000,1000), N, replace=False)\n",
    "sample=np.around(sample)\n",
    "for i in range(N):\n",
    "    index=int(sample[i])\n",
    "    fig.add_trace(\n",
    "        go.Scatter(\n",
    "            x=x,y=BoxNoiseLow[index],name='Constant Signal %d'%i,mode=\"lines\"\n",
    "        ),\n",
    "        row=i+1,col=1\n",
    "    )\n",
    "for i in range(N):\n",
    "    index=int(sample[i])\n",
    "    fig.add_trace(\n",
    "        go.Scatter(\n",
    "            x=x,y=SawNoiseLow[index],name='Line Signal %d'%i,mode=\"lines\"\n",
    "        ),\n",
    "        row=i+1,col=2\n",
    "    )\n",
    "for i in range(N):\n",
    "    index=int(sample[i])\n",
    "    fig.add_trace(\n",
    "        go.Scatter(\n",
    "            x=x,y=ExpNoiseLow[index],name='Exp Signal %d'%i,mode=\"lines\"\n",
    "        ),\n",
    "        row=i+1,col=3\n",
    "    )\n",
    "for i in range(N):\n",
    "    index=int(sample[i])\n",
    "    fig.add_trace(\n",
    "        go.Scatter(\n",
    "            x=x,y=SinNoiseLow[index],name='Sinusoid Signal %d'%i,mode=\"lines\"\n",
    "        ),\n",
    "        row=i+1,col=4\n",
    "    )\n",
    "for i in range(N):\n",
    "    index=int(sample[i])\n",
    "    fig.add_trace(\n",
    "        go.Scatter(\n",
    "            x=x,y=GausNoiseLow[index],name='Gaus Signal %d'%i,mode=\"lines\"\n",
    "        ),\n",
    "        row=i+1,col=5\n",
    "    )\n",
    "#fig.update_xaxes(matches='x')\n",
    "fig.update_layout(height=1200,width=1000,showlegend=False, title_text=\"%d Test Samples of Generated Signals with Noise, LOW\"%N)\n",
    "fig.show()\n",
    "\n"
   ]
  },
  {
   "cell_type": "code",
   "execution_count": null,
   "id": "9cac93a3",
   "metadata": {
    "pycharm": {
     "name": "#%%\n"
    }
   },
   "outputs": [],
   "source": [
    "import plotly.graph_objects as go\n",
    "from plotly.subplots import make_subplots\n",
    "import numpy as np\n",
    "\n",
    "N=5\n",
    "fig =make_subplots(\n",
    "    rows=N,cols=5,\n",
    "    subplot_titles=(\"Box Signal\",\"Saw Signal\", \"Exponential Signal\",\"Sinusoid Signal\",\"Gaussian Signal\")\n",
    "    )\n",
    "fig.update_xaxes(range=[-np.pi,np.pi])\n",
    "#fig.update_yaxes(range=[-1,1])\n",
    "\n",
    "sample=np.random.choice(np.linspace(0,1000,1000), N, replace=False)\n",
    "sample=np.around(sample)\n",
    "for i in range(N):\n",
    "    index=int(sample[i])\n",
    "    fig.add_trace(\n",
    "        go.Scatter(\n",
    "            x=x,y=BoxNoiseHigh[index],name='Constant Signal %d'%i,mode=\"lines\"\n",
    "        ),\n",
    "        row=i+1,col=1\n",
    "    )\n",
    "for i in range(N):\n",
    "    index=int(sample[i])\n",
    "    fig.add_trace(\n",
    "        go.Scatter(\n",
    "            x=x,y=SawNoiseHigh[index],name='Line Signal %d'%i,mode=\"lines\"\n",
    "        ),\n",
    "        row=i+1,col=2\n",
    "    )\n",
    "for i in range(N):\n",
    "    index=int(sample[i])\n",
    "    fig.add_trace(\n",
    "        go.Scatter(\n",
    "            x=x,y=ExpNoiseHigh[index],name='Exp Signal %d'%i,mode=\"lines\"\n",
    "        ),\n",
    "        row=i+1,col=3\n",
    "    )\n",
    "for i in range(N):\n",
    "    index=int(sample[i])\n",
    "    fig.add_trace(\n",
    "        go.Scatter(\n",
    "            x=x,y=SinNoiseHigh[index],name='Sinusoid Signal %d'%i,mode=\"lines\"\n",
    "        ),\n",
    "        row=i+1,col=4\n",
    "    )\n",
    "for i in range(N):\n",
    "    index=int(sample[i])\n",
    "    fig.add_trace(\n",
    "        go.Scatter(\n",
    "            x=x,y=GausNoiseHigh[index],name='Gaus Signal %d'%i,mode=\"lines\"\n",
    "        ),\n",
    "        row=i+1,col=5\n",
    "    )\n",
    "#fig.update_xaxes(matches='x')\n",
    "fig.update_layout(height=1200,width=1000,showlegend=False, title_text=\"%d Test Samples of Generated Signals with Noise, HIGH\"%N)\n",
    "fig.show()\n",
    "\n"
   ]
  },
  {
   "cell_type": "markdown",
   "id": "iveYsK7xy9ie",
   "metadata": {
    "id": "iveYsK7xy9ie",
    "pycharm": {
     "name": "#%% md\n"
    }
   },
   "source": [
    "\n",
    "## Training Model "
   ]
  },
  {
   "cell_type": "markdown",
   "id": "fUMqYCRKubjQ",
   "metadata": {
    "id": "fUMqYCRKubjQ",
    "pycharm": {
     "name": "#%% md\n"
    }
   },
   "source": [
    "### Neural Network(100 epochs, 128 RELU activation layer)"
   ]
  },
  {
   "cell_type": "code",
   "execution_count": null,
   "id": "shgQPN0ywZjp",
   "metadata": {
    "colab": {
     "base_uri": "https://localhost:8080/"
    },
    "executionInfo": {
     "elapsed": 381993,
     "status": "ok",
     "timestamp": 1651519460662,
     "user": {
      "displayName": "Abbass",
      "userId": "15291878327143677964"
     },
     "user_tz": 240
    },
    "id": "shgQPN0ywZjp",
    "outputId": "97675f5e-ebeb-478d-9760-8e2f6abbca99",
    "pycharm": {
     "name": "#%%\n"
    }
   },
   "outputs": [],
   "source": [
    "modelNN = tf.keras.Sequential([\n",
    "    tf.keras.layers.Dense(128, activation='relu'),\n",
    "    tf.keras.layers.Dense(5)\n",
    "])\n",
    "modelNN.compile(optimizer='adam',\n",
    "              loss=tf.keras.losses.SparseCategoricalCrossentropy(from_logits=True),\n",
    "              metrics=['accuracy'])\n",
    "modelNN.fit(SignalsTrain, SignalLabelsTrain, epochs=100)\n"
   ]
  },
  {
   "cell_type": "markdown",
   "id": "HXaZhyzyxxwT",
   "metadata": {
    "id": "HXaZhyzyxxwT",
    "pycharm": {
     "name": "#%% md\n"
    }
   },
   "source": [
    "### Decision Tree Classifier"
   ]
  },
  {
   "cell_type": "markdown",
   "id": "GC6VYop7y6Ex",
   "metadata": {
    "id": "GC6VYop7y6Ex",
    "pycharm": {
     "name": "#%% md\n"
    }
   },
   "source": [
    "## Testing Model\n"
   ]
  },
  {
   "cell_type": "code",
   "execution_count": null,
   "id": "KlxtEAPGQwRL",
   "metadata": {
    "id": "KlxtEAPGQwRL",
    "pycharm": {
     "name": "#%%\n"
    }
   },
   "outputs": [],
   "source": [
    "SignalsFourier40Test=np.resize(SignalsFourier40Test,(5000,100))"
   ]
  },
  {
   "cell_type": "code",
   "execution_count": null,
   "id": "f400549d",
   "metadata": {
    "pycharm": {
     "name": "#%%\n"
    }
   },
   "outputs": [],
   "source": [
    "SignalsFourier80Test=np.resize(SignalsFourier80Test,(5000,100))"
   ]
  },
  {
   "cell_type": "markdown",
   "id": "2uEy634Sx8ey",
   "metadata": {
    "id": "2uEy634Sx8ey",
    "pycharm": {
     "name": "#%% md\n"
    }
   },
   "source": [
    "### NN Model"
   ]
  },
  {
   "cell_type": "code",
   "execution_count": null,
   "id": "AIVxuh4Uzlbx",
   "metadata": {
    "colab": {
     "base_uri": "https://localhost:8080/"
    },
    "executionInfo": {
     "elapsed": 1055,
     "status": "ok",
     "timestamp": 1651520230059,
     "user": {
      "displayName": "Abbass",
      "userId": "15291878327143677964"
     },
     "user_tz": 240
    },
    "id": "AIVxuh4Uzlbx",
    "outputId": "824bd613-95e4-43aa-e735-f3636f35ab25",
    "pycharm": {
     "name": "#%%\n"
    }
   },
   "outputs": [],
   "source": [
    "test_loss, woNoiseAcc = modelNN.evaluate(SignalsTest,  SignalLabelsTest, verbose=2)\n",
    "test_loss, wnoiseHAcc = modelNN.evaluate(SignalsWNoiseHighTest,  SignalLabelsTest, verbose=2)\n",
    "test_loss, wnoiseLAcc = modelNN.evaluate(SignalsWNoiseLowTest,  SignalLabelsTest, verbose=2)\n",
    "test_loss, fourier40Acc = modelNN.evaluate(SignalsFourier40Test,  SignalLabelsTest, verbose=2)\n",
    "test_loss, fourier80Acc = modelNN.evaluate(SignalsFourier80Test,  SignalLabelsTest, verbose=2)\n",
    "\n",
    "\n",
    "\n",
    "print(\n",
    "\"Raw Signals: %.5f \\nSignals with High Noise: %.5f\\nSignals with Low Noise: %.5f\\nFourier Represnetation of Signals N=40: %.5f\\nFourier Represnetation of Signals N=80 %.5f\"%(woNoiseAcc,wnoiseHAcc,wnoiseLAcc,fourier40Acc,fourier80Acc))\n"
   ]
  }
 ],
 "metadata": {
  "accelerator": "GPU",
  "colab": {
   "collapsed_sections": [],
   "name": "ClassifyingSignals.ipynb",
   "provenance": [],
   "toc_visible": true
  },
  "kernelspec": {
   "display_name": "Python 3",
   "language": "python",
   "name": "python3"
  },
  "language_info": {
   "codemirror_mode": {
    "name": "ipython",
    "version": 3
   },
   "file_extension": ".py",
   "mimetype": "text/x-python",
   "name": "python",
   "nbconvert_exporter": "python",
   "pygments_lexer": "ipython3",
   "version": "3.6.13"
  }
 },
 "nbformat": 4,
 "nbformat_minor": 5
}
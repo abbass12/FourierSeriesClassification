{
 "cells": [
  {
   "cell_type": "markdown",
   "source": [
    "# Section 0: Preliminary : Import of Libraries"
   ],
   "metadata": {
    "collapsed": false,
    "pycharm": {
     "name": "#%% md\n"
    }
   }
  },
  {
   "cell_type": "code",
   "execution_count": null,
   "outputs": [],
   "source": [
    "import Fourier as f\n",
    "import Generate as Signal\n",
    "import numpy as np\n",
    "import pandas as pd\n",
    "import plotly.graph_objects as go\n",
    "#import tensorflow as tf\n",
    "np.seterr(divide='ignore', invalid='ignore')\n",
    "import warnings\n",
    "warnings.filterwarnings(\"ignore\", category=FutureWarning)\n",
    "def plot(fig,x,y,name):\n",
    "    fig.add_trace(go.Scatter(x=x,y=y,mode='lines',name=name))\n",
    "\n",
    "N = [15,20,40,45,80,135,160,320,405,640,1215,1280,1500]\n",
    "\n",
    "#f.calculateIdftMat(N)\n",
    "fig=go.Figure()"
   ],
   "metadata": {
    "collapsed": false,
    "pycharm": {
     "name": "#%%\n"
    }
   }
  },
  {
   "cell_type": "code",
   "execution_count": null,
   "outputs": [],
   "source": [
    "ngrid=1500\n",
    "xx=np.linspace(-np.pi,np.pi,ngrid+1)\n",
    "x=xx[0:-1]"
   ],
   "metadata": {
    "collapsed": false,
    "pycharm": {
     "name": "#%%\n"
    }
   }
  },
  {
   "cell_type": "markdown",
   "source": [
    "# Section 1: Model A\n",
    "Model A (base model)\n",
    "* Training:\n",
    " *This model is trained on only on the gridpoint data(Lenght of 1500)*\n",
    "  1. 100 x 5 signals\n",
    "  2. 1000 x 5 signals\n",
    "  3. 10000 x 5 signals\n",
    "* Testing:\n",
    "  1. 1000 x 5 signals\n",
    "  2. 1000 x 5 fourier representation of the signals\n",
    "    i. 20\n",
    "    ii. 80\n",
    "    iii. 100\n",
    "  3. 100 x 5 fourier representation of the signals"
   ],
   "metadata": {
    "collapsed": false,
    "pycharm": {
     "name": "#%% md\n"
    }
   }
  },
  {
   "cell_type": "markdown",
   "source": [
    "## Section 1.1 Generation of Signals\n",
    "### Training\n",
    "#### A.1: 100 x 5 signals"
   ],
   "metadata": {
    "collapsed": false,
    "pycharm": {
     "name": "#%% md\n"
    }
   }
  },
  {
   "cell_type": "code",
   "execution_count": null,
   "outputs": [],
   "source": [
    "\n"
   ],
   "metadata": {
    "collapsed": false,
    "pycharm": {
     "name": "#%%\n"
    }
   }
  }
 ],
 "metadata": {
  "kernelspec": {
   "display_name": "Python 3",
   "language": "python",
   "name": "python3"
  },
  "language_info": {
   "codemirror_mode": {
    "name": "ipython",
    "version": 2
   },
   "file_extension": ".py",
   "mimetype": "text/x-python",
   "name": "python",
   "nbconvert_exporter": "python",
   "pygments_lexer": "ipython2",
   "version": "2.7.6"
  }
 },
 "nbformat": 4,
 "nbformat_minor": 0
}